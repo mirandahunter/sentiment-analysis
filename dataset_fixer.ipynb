{
 "cells": [
  {
   "cell_type": "code",
   "execution_count": 17,
   "id": "a6a9037c-9fd5-485e-b9b6-61c0036a7242",
   "metadata": {},
   "outputs": [
    {
     "name": "stderr",
     "output_type": "stream",
     "text": [
      "IOPub data rate exceeded.\n",
      "The Jupyter server will temporarily stop sending output\n",
      "to the client in order to avoid crashing it.\n",
      "To change this limit, set the config variable\n",
      "`--ServerApp.iopub_data_rate_limit`.\n",
      "\n",
      "Current values:\n",
      "ServerApp.iopub_data_rate_limit=1000000.0 (bytes/sec)\n",
      "ServerApp.rate_limit_window=3.0 (secs)\n",
      "\n"
     ]
    }
   ],
   "source": [
    "filename = 'clean_IMDBDataset.csv'\n",
    "read_file = open(filename, 'r')\n",
    "text = read_file.read()\n",
    "print(text)\n",
    "read_file.close()"
   ]
  },
  {
   "cell_type": "code",
   "execution_count": 18,
   "id": "32f209e3-babc-4c0b-b3de-0bceb02121db",
   "metadata": {},
   "outputs": [],
   "source": [
    "write_file = 'clean_IMDBdataset-Copy1.csv'\n",
    "file = open(write_file, 'w')"
   ]
  },
  {
   "cell_type": "code",
   "execution_count": 19,
   "id": "73494b59-3a33-49f5-8c23-1d4f08afeb3c",
   "metadata": {},
   "outputs": [],
   "source": [
    "file.write(\"Phrase,Sentiment\\n\")\n",
    "file.write(text)\n",
    "file.close()"
   ]
  },
  {
   "cell_type": "code",
   "execution_count": null,
   "id": "95f1352a-028b-4470-ae02-7b04810087eb",
   "metadata": {},
   "outputs": [],
   "source": []
  }
 ],
 "metadata": {
  "kernelspec": {
   "display_name": "Python 3 (ipykernel)",
   "language": "python",
   "name": "python3"
  },
  "language_info": {
   "codemirror_mode": {
    "name": "ipython",
    "version": 3
   },
   "file_extension": ".py",
   "mimetype": "text/x-python",
   "name": "python",
   "nbconvert_exporter": "python",
   "pygments_lexer": "ipython3",
   "version": "3.10.10"
  }
 },
 "nbformat": 4,
 "nbformat_minor": 5
}

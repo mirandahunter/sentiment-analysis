{
 "cells": [
  {
   "cell_type": "code",
   "execution_count": 222,
   "metadata": {},
   "outputs": [
    {
     "name": "stderr",
     "output_type": "stream",
     "text": [
      "[nltk_data] Error loading punkt: <urlopen error [Errno 8] nodename nor\n",
      "[nltk_data]     servname provided, or not known>\n"
     ]
    }
   ],
   "source": [
    "import pandas as pd\n",
    "import numpy as np\n",
    "import nltk\n",
    "from nltk.tokenize import word_tokenize\n",
    "nltk.download('punkt')\n",
    "import re"
   ]
  },
  {
   "cell_type": "code",
   "execution_count": 223,
   "metadata": {},
   "outputs": [
    {
     "name": "stderr",
     "output_type": "stream",
     "text": [
      "/var/folders/01/r024mm7x74qd70l_5q2qs0hm0000gn/T/ipykernel_61677/1763359842.py:6: FutureWarning: The default value of regex will change from True to False in a future version.\n",
      "  df['Phrase'] = df['Phrase'].str.replace(r'[^\\w\\s]+', '')\n",
      "/var/folders/01/r024mm7x74qd70l_5q2qs0hm0000gn/T/ipykernel_61677/1763359842.py:8: FutureWarning: The default value of regex will change from True to False in a future version.\n",
      "  df['Phrase'] = df['Phrase'].str.replace(r'\\d+', '')\n"
     ]
    }
   ],
   "source": [
    "# Data Preprocessing\n",
    "path = \"RottenTomatoes/DataSet/train.tsv\"\n",
    "df = pd.read_csv(path, sep=\"\\t\") \n",
    "\n",
    "# remove punctuation\n",
    "df['Phrase'] = df['Phrase'].str.replace(r'[^\\w\\s]+', '')\n",
    "# remove numbers\n",
    "df['Phrase'] = df['Phrase'].str.replace(r'\\d+', '')\n",
    "# make it all lower case\n",
    "df['Phrase'] = df['Phrase'].str.lower()\n",
    "# remove non-asci characters\n",
    "df.Phrase.replace({r'[^\\x00-\\x7F]+':''}, regex=True, inplace=True)\n",
    "#df['Phrase'] = df['Phrase'].str.split()\n",
    "\n",
    "df['Tokenized_text'] = df['Phrase'].apply(word_tokenize) \n",
    "\n",
    "df['Sentiment']=df['Sentiment'].astype(int) #convert the star_rating column to int\n",
    "df['NNLabels'] = df['Sentiment'].div(4)\n",
    "\n",
    "df= df[df['Sentiment']!=2]\n",
    "\n",
    "#df['label']=np.where(df['Sentiment']>=4,1,0) #1-Positve,0-Negative\n",
    "# convert to NumPy Array\n",
    "#train = df['Phrase'].to_numpy()\n"
   ]
  },
  {
   "cell_type": "code",
   "execution_count": 224,
   "metadata": {},
   "outputs": [
    {
     "name": "stdout",
     "output_type": "stream",
     "text": [
      "Train:  (61182,) (61182,) Test:  ((15296,), (15296,))\n"
     ]
    }
   ],
   "source": [
    "from sklearn.model_selection import train_test_split\n",
    "X_train,X_test,Y_train, Y_test = train_test_split(df['Phrase'], df['Sentiment'], test_size=0.2, random_state=30)\n",
    "print(\"Train: \" ,X_train.shape,Y_train.shape,\"Test: \",(X_test.shape,Y_test.shape))"
   ]
  },
  {
   "cell_type": "code",
   "execution_count": 225,
   "metadata": {},
   "outputs": [
    {
     "name": "stdout",
     "output_type": "stream",
     "text": [
      "Train:  (30591,) (30591,) Test:  ((30591,), (30591,))\n"
     ]
    }
   ],
   "source": [
    "X_train,X_valid,Y_train, Y_valid = train_test_split(X_train,Y_train, test_size=0.5, random_state=30)\n",
    "print(\"Train: \" ,X_train.shape,Y_train.shape,\"Test: \",(X_valid.shape,Y_valid.shape))"
   ]
  },
  {
   "cell_type": "code",
   "execution_count": 226,
   "metadata": {},
   "outputs": [],
   "source": [
    "from nltk.stem.porter import *\n",
    "from sklearn.feature_extraction.text import TfidfVectorizer,CountVectorizer"
   ]
  },
  {
   "cell_type": "code",
   "execution_count": 227,
   "metadata": {},
   "outputs": [],
   "source": [
    "countvectorizer = CountVectorizer(analyzer= 'word', stop_words='english')\n",
    "tfidfvectorizer = TfidfVectorizer(analyzer='word',stop_words= 'english')\n",
    "tf_x_train = tfidfvectorizer.fit_transform(X_train)\n",
    "tf_x_valid = tfidfvectorizer.transform(X_valid)"
   ]
  },
  {
   "cell_type": "code",
   "execution_count": 228,
   "metadata": {},
   "outputs": [],
   "source": [
    "#from sklearn import preprocessing\n",
    "#normalized_arr = preprocessing.normalize(tf_x_train.toarray())\n",
    "#normalized_var = preprocessing.normalize(tf_x_valid.toarray())"
   ]
  },
  {
   "cell_type": "markdown",
   "metadata": {},
   "source": []
  },
  {
   "cell_type": "code",
   "execution_count": 229,
   "metadata": {},
   "outputs": [],
   "source": [
    "from sklearn.cluster import MiniBatchKMeans\n",
    "K = 37"
   ]
  },
  {
   "cell_type": "code",
   "execution_count": 230,
   "metadata": {},
   "outputs": [],
   "source": [
    "kmeans = MiniBatchKMeans(n_clusters=K, random_state=10, n_init=10)"
   ]
  },
  {
   "cell_type": "code",
   "execution_count": 231,
   "metadata": {},
   "outputs": [
    {
     "data": {
      "text/plain": [
       "MiniBatchKMeans(n_clusters=37, n_init=10, random_state=10)"
      ]
     },
     "execution_count": 231,
     "metadata": {},
     "output_type": "execute_result"
    }
   ],
   "source": [
    "kmeans.fit(tf_x_train.toarray().astype(float))"
   ]
  },
  {
   "cell_type": "code",
   "execution_count": 232,
   "metadata": {},
   "outputs": [],
   "source": [
    "preds = kmeans.predict(tf_x_valid.toarray().astype(float))"
   ]
  },
  {
   "cell_type": "code",
   "execution_count": null,
   "metadata": {},
   "outputs": [],
   "source": []
  },
  {
   "cell_type": "code",
   "execution_count": 233,
   "metadata": {},
   "outputs": [
    {
     "name": "stdout",
     "output_type": "stream",
     "text": [
      "[0 0 0 ... 0 0 0]\n",
      "[0 0 0 ... 0 0 0]\n"
     ]
    }
   ],
   "source": [
    "print(preds)\n",
    "for i in range(len(preds)):\n",
    "    preds[i] = 0 if preds[i] < K/5 else 1 if preds[i]< (2*K)/5 else 2 if preds[i] < (3*K)/5 else 3 if preds[i] < (4*K)/5 else 4\n",
    "\n",
    "print(preds)"
   ]
  },
  {
   "cell_type": "code",
   "execution_count": 234,
   "metadata": {},
   "outputs": [
    {
     "name": "stderr",
     "output_type": "stream",
     "text": [
      "/Users/wjones/opt/anaconda3/envs/py4sci/lib/python3.10/site-packages/sklearn/metrics/_classification.py:1318: UndefinedMetricWarning: Recall and F-score are ill-defined and being set to 0.0 in labels with no true samples. Use `zero_division` parameter to control this behavior.\n",
      "  _warn_prf(average, modifier, msg_start, len(result))\n",
      "/Users/wjones/opt/anaconda3/envs/py4sci/lib/python3.10/site-packages/sklearn/metrics/_classification.py:1318: UndefinedMetricWarning: Recall and F-score are ill-defined and being set to 0.0 in labels with no true samples. Use `zero_division` parameter to control this behavior.\n",
      "  _warn_prf(average, modifier, msg_start, len(result))\n",
      "/Users/wjones/opt/anaconda3/envs/py4sci/lib/python3.10/site-packages/sklearn/metrics/_classification.py:1318: UndefinedMetricWarning: Recall and F-score are ill-defined and being set to 0.0 in labels with no true samples. Use `zero_division` parameter to control this behavior.\n",
      "  _warn_prf(average, modifier, msg_start, len(result))\n"
     ]
    },
    {
     "data": {
      "text/plain": [
       "{'0': {'precision': 0.0931268981909415,\n",
       "  'recall': 0.9908675799086758,\n",
       "  'f1-score': 0.17025257249766135,\n",
       "  'support': 2847},\n",
       " '1': {'precision': 0.14563106796116504,\n",
       "  'recall': 0.0027490149363144875,\n",
       "  'f1-score': 0.005396168720208652,\n",
       "  'support': 10913},\n",
       " '2': {'precision': 0.0, 'recall': 0.0, 'f1-score': 0.0, 'support': 0},\n",
       " '3': {'precision': 0.15,\n",
       "  'recall': 0.00022900763358778625,\n",
       "  'f1-score': 0.0004573170731707316,\n",
       "  'support': 13100},\n",
       " '4': {'precision': 0.0, 'recall': 0.0, 'f1-score': 0.0, 'support': 3731},\n",
       " 'accuracy': 0.09329541368376319,\n",
       " 'macro avg': {'precision': 0.07775159323042131,\n",
       "  'recall': 0.19876912049571563,\n",
       "  'f1-score': 0.03522121165820814,\n",
       "  'support': 30591},\n",
       " 'weighted avg': {'precision': 0.124853849949652,\n",
       "  'recall': 0.09329541368376319,\n",
       "  'f1-score': 0.01796568653535404,\n",
       "  'support': 30591}}"
      ]
     },
     "execution_count": 234,
     "metadata": {},
     "output_type": "execute_result"
    }
   ],
   "source": [
    "from sklearn.metrics import classification_report\n",
    "report=classification_report(Y_valid.array, preds.astype(int),output_dict=True)\n",
    "report"
   ]
  },
  {
   "cell_type": "code",
   "execution_count": 235,
   "metadata": {},
   "outputs": [],
   "source": [
    "#from sklearn import preprocessing\n",
    "#normalized_arr = preprocessing.normalize(tf_x_train.toarray())\n",
    "#normalized_var = preprocessing.normalize(tf_x_valid.toarray())\n",
    "from sklearn.metrics import accuracy_score\n",
    "accuracy = []\n",
    "for i in range(1, 15):\n",
    "    preds = []\n",
    "    kmeans = MiniBatchKMeans(n_clusters=37, random_state=10, n_init=i)\n",
    "    kmeans.fit(tf_x_train.toarray().astype(float))\n",
    "    preds = kmeans.predict(tf_x_valid.toarray().astype(float))\n",
    "    #print(preds//5)\n",
    "    preds = preds//5\n",
    "    accuracy.append((accuracy_score(Y_valid.array, preds.astype(int)),i))\n"
   ]
  },
  {
   "cell_type": "code",
   "execution_count": null,
   "metadata": {},
   "outputs": [],
   "source": [
    "\n",
    "a1 = []\n",
    "a2 = []\n",
    "for i in range(len(accuracy)):\n",
    "    a1.append(accuracy[i][0]*100)\n",
    "    a2.append(accuracy[i][1])"
   ]
  },
  {
   "cell_type": "code",
   "execution_count": null,
   "metadata": {},
   "outputs": [
    {
     "data": {
      "text/plain": [
       "[9.202052891373281,\n",
       " 9.267431597528685,\n",
       " 9.290314144683077,\n",
       " 9.303389885914157,\n",
       " 9.316465627145238,\n",
       " 9.329541368376319,\n",
       " 9.33934817429963,\n",
       " 9.342617109607401,\n",
       " 9.352423915530713,\n",
       " 9.362230721454022,\n",
       " 9.365499656761793,\n",
       " 9.424340492301656,\n",
       " 9.496257069072604,\n",
       " 35.44179660684515]"
      ]
     },
     "execution_count": 162,
     "metadata": {},
     "output_type": "execute_result"
    }
   ],
   "source": [
    "a1"
   ]
  },
  {
   "cell_type": "code",
   "execution_count": null,
   "metadata": {},
   "outputs": [
    {
     "data": {
      "text/plain": [
       "[<matplotlib.lines.Line2D at 0x7fd2d13100a0>]"
      ]
     },
     "execution_count": 165,
     "metadata": {},
     "output_type": "execute_result"
    },
    {
     "data": {
      "image/png": "[encoded data removed]",
      "text/plain": [
       "<Figure size 640x480 with 1 Axes>"
      ]
     },
     "metadata": {},
     "output_type": "display_data"
    }
   ],
   "source": [
    "import matplotlib.pyplot as plt\n",
    "plt.plot(a2 ,a1)"
   ]
  },
  {
   "cell_type": "code",
   "execution_count": null,
   "metadata": {},
   "outputs": [
    {
     "ename": "KeyboardInterrupt",
     "evalue": "",
     "output_type": "error",
     "traceback": [
      "\u001b[0;31m---------------------------------------------------------------------------\u001b[0m",
      "\u001b[0;31mKeyboardInterrupt\u001b[0m                         Traceback (most recent call last)",
      "Cell \u001b[0;32mIn[111], line 6\u001b[0m\n\u001b[1;32m      4\u001b[0m kmeans \u001b[39m=\u001b[39m MiniBatchKMeans(n_clusters\u001b[39m=\u001b[39mi)\n\u001b[1;32m      5\u001b[0m kmeans\u001b[39m.\u001b[39mfit(tf_x_train\u001b[39m.\u001b[39mtoarray()\u001b[39m.\u001b[39mastype(\u001b[39mfloat\u001b[39m))\n\u001b[0;32m----> 6\u001b[0m preds \u001b[39m=\u001b[39m kmeans\u001b[39m.\u001b[39mpredict(tf_x_valid\u001b[39m.\u001b[39;49mtoarray()\u001b[39m.\u001b[39;49mastype(\u001b[39mfloat\u001b[39;49m))\n\u001b[1;32m      7\u001b[0m preds \u001b[39m=\u001b[39m preds\u001b[39m/\u001b[39m\u001b[39m/\u001b[39m\u001b[39m5\u001b[39m\n\u001b[1;32m      8\u001b[0m accuracy\u001b[39m.\u001b[39mappend((accuracy_score(Y_valid\u001b[39m.\u001b[39marray, preds\u001b[39m.\u001b[39mastype(\u001b[39mint\u001b[39m)),i))\n",
      "\u001b[0;31mKeyboardInterrupt\u001b[0m: "
     ]
    }
   ],
   "source": [
    "from sklearn.metrics import accuracy_score\n",
    "accuracy = []\n",
    "for i in range(5,50):\n",
    "    kmeans = MiniBatchKMeans(n_clusters=i)\n",
    "    kmeans.fit(tf_x_train.toarray().astype(float))\n",
    "    preds = kmeans.predict(tf_x_valid.toarray().astype(float))\n",
    "    preds = preds//5\n",
    "    accuracy.append((accuracy_score(Y_valid.array, preds.astype(int)),i))\n",
    "\n"
   ]
  },
  {
   "cell_type": "code",
   "execution_count": null,
   "metadata": {},
   "outputs": [
    {
     "name": "stdout",
     "output_type": "stream",
     "text": [
      "(0.4263672321924749, 37)\n"
     ]
    }
   ],
   "source": [
    "print(accuracy[-3])"
   ]
  },
  {
   "cell_type": "code",
   "execution_count": null,
   "metadata": {},
   "outputs": [
    {
     "name": "stdout",
     "output_type": "stream",
     "text": [
      "0.09734571129707113\n"
     ]
    }
   ],
   "source": [
    "kmeans = MiniBatchKMeans(n_clusters=8)\n",
    "kmeans.fit(normalized_arr.toarray().astype(float))\n",
    "kmeans.transform(normalized_arr.toarray().astype(float))\n",
    "preds = kmeans.predict(normalized_var.toarray().astype(float))\n",
    "preds = preds//5\n",
    "print(accuracy_score(Y_valid.array, preds.astype(int)))"
   ]
  },
  {
   "cell_type": "code",
   "execution_count": null,
   "metadata": {},
   "outputs": [],
   "source": [
    "new_x_train_features = kmeans.fit_transform(normalized_arr).astype(float)\n",
    "new_x_valid_features = kmeans.fit_transform(normalized_var).astype(float)"
   ]
  },
  {
   "cell_type": "code",
   "execution_count": null,
   "metadata": {},
   "outputs": [
    {
     "name": "stdout",
     "output_type": "stream",
     "text": [
      "[[1411.49286041 1414.13130179 1407.10501085 ... 1413.31009462\n",
      "  1412.77136282 1414.21356237]\n",
      " [1411.49286041 1414.13130179 1407.10501085 ... 1413.31009462\n",
      "  1412.77136282 1414.21356237]\n",
      " [1411.49286041 1414.13130179 1407.10501085 ... 1413.31009462\n",
      "  1412.77136282 1414.21356237]\n",
      " ...\n",
      " [1411.49286041 1414.13130179 1407.10501085 ... 1413.31009462\n",
      "  1412.77136282 1414.21356237]\n",
      " [1411.49286041 1414.13130179 1407.10501085 ... 1413.31009462\n",
      "  1412.77136282 1414.21356237]\n",
      " [1411.49286041 1414.13130179 1407.10501085 ... 1413.31009462\n",
      "  1412.77136282 1414.21356237]]\n"
     ]
    }
   ],
   "source": [
    "print(new_x_train_features*1000)"
   ]
  },
  {
   "cell_type": "code",
   "execution_count": 1,
   "metadata": {},
   "outputs": [
    {
     "name": "stdout",
     "output_type": "stream",
     "text": [
      "Linear(in_features=37, out_features=16, bias=True)\n",
      "Linear(in_features=16, out_features=5, bias=True)\n"
     ]
    },
    {
     "ename": "TypeError",
     "evalue": "Linear.__init__() missing 2 required positional arguments: 'in_features' and 'out_features'",
     "output_type": "error",
     "traceback": [
      "\u001b[0;31m---------------------------------------------------------------------------\u001b[0m",
      "\u001b[0;31mTypeError\u001b[0m                                 Traceback (most recent call last)",
      "Cell \u001b[0;32mIn[1], line 18\u001b[0m\n\u001b[1;32m     13\u001b[0m \u001b[39mprint\u001b[39m(linear_layer1)\n\u001b[1;32m     14\u001b[0m \u001b[39mprint\u001b[39m(linear_layer2)\n\u001b[1;32m     16\u001b[0m model \u001b[39m=\u001b[39m torch\u001b[39m.\u001b[39mnn\u001b[39m.\u001b[39mSequential(\n\u001b[1;32m     17\u001b[0m     linear_layer1,\n\u001b[0;32m---> 18\u001b[0m     torch\u001b[39m.\u001b[39;49mnn\u001b[39m.\u001b[39;49mLinear(),\n\u001b[1;32m     19\u001b[0m     linear_layer2,\n\u001b[1;32m     20\u001b[0m     torch\u001b[39m.\u001b[39mnn\u001b[39m.\u001b[39mSigmoid()\n\u001b[1;32m     21\u001b[0m )\n\u001b[1;32m     23\u001b[0m Y_tensor \u001b[39m=\u001b[39m torch\u001b[39m.\u001b[39mtensor(Y_train\u001b[39m.\u001b[39marray\u001b[39m/\u001b[39m\u001b[39m4\u001b[39m)\u001b[39m.\u001b[39mlong()\n\u001b[1;32m     24\u001b[0m X_tensor \u001b[39m=\u001b[39m torch\u001b[39m.\u001b[39mtensor(new_x_train_features)\u001b[39m.\u001b[39mfloat()\n",
      "\u001b[0;31mTypeError\u001b[0m: Linear.__init__() missing 2 required positional arguments: 'in_features' and 'out_features'"
     ]
    }
   ],
   "source": [
    "import torch\n",
    "import torch.nn as nn\n",
    "# Define the number of input features\n",
    "K = 37\n",
    "\n",
    "# Define the first linear layer\n",
    "linear_layer1 = nn.Linear(K, 16)\n",
    "\n",
    "# Define the second linear layer\n",
    "linear_layer2 = nn.Linear(16, 5)\n",
    "\n",
    "# Print the two linear layers\n",
    "print(linear_layer1)\n",
    "print(linear_layer2)\n",
    "\n",
    "model = torch.nn.Sequential(\n",
    "    linear_layer1,\n",
    "    torch.nn.Linear(),\n",
    "    linear_layer2,\n",
    "    torch.nn.Sigmoid()\n",
    ")\n",
    "\n",
    "Y_tensor = torch.tensor(Y_train.array/4).long()\n",
    "X_tensor = torch.tensor(new_x_train_features).float()\n",
    "\n",
    "#print(X_tensor.shape)\n",
    "# make a dataset object\n",
    "data = torch.utils.data.TensorDataset(X_tensor, Y_tensor)\n",
    "\n",
    "# then use it to make a dataloader object\n",
    "loader = torch.utils.data.DataLoader(data, batch_size=32, shuffle=True)\n",
    "\n",
    "# make a scoring function\n",
    "scorer = torch.nn.NLLLoss()\n",
    "\n",
    "opt = torch.optim.Adam( model.parameters(), 0.0001   )\n",
    "\n",
    "num_epochs = 70\n",
    "for j in range(num_epochs):\n",
    "    for batch in loader:\n",
    "        # unpack data\n",
    "        batchX = batch[0]\n",
    "\n",
    "        batchY = batch[1]\n",
    "\n",
    "        #print(batchY.shape)\n",
    "        # zero out last run \n",
    "        opt.zero_grad\n",
    "\n",
    "        # get the predicitions\n",
    "        preds = model(batchX)\n",
    "     \n",
    "        # get the error\n",
    "        #print(preds.shape)\n",
    "        err = scorer(preds, batchY)\n",
    "        \n",
    "        # send the gradient information to the parameters\n",
    "        err.backward()\n",
    "\n",
    "        # take the step\n",
    "        opt.step()\n",
    "\n",
    "preds = model(X_tensor).detach().numpy()\n",
    "print(preds)\n",
    "\n",
    "#plt.scatter(trainX[:,0], trainX[:, 1], c=pred_labels)"
   ]
  },
  {
   "cell_type": "code",
   "execution_count": null,
   "metadata": {},
   "outputs": [],
   "source": [
    "from keras import Sequential\n",
    "from keras.layers import Embedding, LSTM, Dense, Dropout\n",
    "embedding_size=32\n",
    "model= Sequential()\n",
    "model.add(Embedding(5000, embedding_size, input_length=500))\n",
    "model.add(LSTM(100))\n",
    "model.add(Dense(1, activation='sigmoid'))"
   ]
  },
  {
   "cell_type": "code",
   "execution_count": null,
   "metadata": {},
   "outputs": [],
   "source": [
    "model.compile(loss='binary_crossentropy', \n",
    "             optimizer='adam', \n",
    "             metrics=['accuracy'])"
   ]
  },
  {
   "cell_type": "code",
   "execution_count": null,
   "metadata": {},
   "outputs": [
    {
     "ename": "AttributeError",
     "evalue": "module 'numpy' has no attribute 'toarray'",
     "output_type": "error",
     "traceback": [
      "\u001b[0;31m---------------------------------------------------------------------------\u001b[0m",
      "\u001b[0;31mAttributeError\u001b[0m                            Traceback (most recent call last)",
      "Cell \u001b[0;32mIn[197], line 1\u001b[0m\n\u001b[0;32m----> 1\u001b[0m model\u001b[39m.\u001b[39mfit(np\u001b[39m.\u001b[39;49mtoarray(new_x_train_features), Y_train\u001b[39m.\u001b[39marray, validation_data\u001b[39m=\u001b[39m(new_x_valid_features, Y_valid\u001b[39m.\u001b[39marray\u001b[39m/\u001b[39m\u001b[39m4\u001b[39m), batch_size\u001b[39m=\u001b[39m\u001b[39m36\u001b[39m, epochs\u001b[39m=\u001b[39m\u001b[39m20\u001b[39m)\n",
      "File \u001b[0;32m~/opt/anaconda3/envs/py4sci/lib/python3.10/site-packages/numpy/__init__.py:311\u001b[0m, in \u001b[0;36m__getattr__\u001b[0;34m(attr)\u001b[0m\n\u001b[1;32m    308\u001b[0m     \u001b[39mfrom\u001b[39;00m \u001b[39m.\u001b[39;00m\u001b[39mtesting\u001b[39;00m \u001b[39mimport\u001b[39;00m Tester\n\u001b[1;32m    309\u001b[0m     \u001b[39mreturn\u001b[39;00m Tester\n\u001b[0;32m--> 311\u001b[0m \u001b[39mraise\u001b[39;00m \u001b[39mAttributeError\u001b[39;00m(\u001b[39m\"\u001b[39m\u001b[39mmodule \u001b[39m\u001b[39m{!r}\u001b[39;00m\u001b[39m has no attribute \u001b[39m\u001b[39m\"\u001b[39m\n\u001b[1;32m    312\u001b[0m                      \u001b[39m\"\u001b[39m\u001b[39m{!r}\u001b[39;00m\u001b[39m\"\u001b[39m\u001b[39m.\u001b[39mformat(\u001b[39m__name__\u001b[39m, attr))\n",
      "\u001b[0;31mAttributeError\u001b[0m: module 'numpy' has no attribute 'toarray'"
     ]
    }
   ],
   "source": [
    "model.fit(new_x_train_features, Y_train.array, validation_data=(new_x_valid_features, Y_valid.array/4), batch_size=36, epochs=20)"
   ]
  },
  {
   "attachments": {},
   "cell_type": "markdown",
   "metadata": {},
   "source": []
  }
 ],
 "metadata": {
  "kernelspec": {
   "display_name": "py4sci",
   "language": "python",
   "name": "python3"
  },
  "language_info": {
   "codemirror_mode": {
    "name": "ipython",
    "version": 3
   },
   "file_extension": ".py",
   "mimetype": "text/x-python",
   "name": "python",
   "nbconvert_exporter": "python",
   "pygments_lexer": "ipython3",
   "version": "3.10.10"
  },
  "orig_nbformat": 4
 },
 "nbformat": 4,
 "nbformat_minor": 2
}

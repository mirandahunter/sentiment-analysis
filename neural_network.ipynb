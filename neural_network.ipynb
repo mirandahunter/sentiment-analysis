{
 "cells": [
  {
   "cell_type": "markdown",
   "id": "558a8fe7-d479-4922-89f7-8202d6d35fb1",
   "metadata": {},
   "source": [
    "### import statements:"
   ]
  },
  {
   "cell_type": "code",
   "execution_count": 1,
   "id": "9f08399d-3e13-4a1c-a4d1-054e2d78a062",
   "metadata": {},
   "outputs": [
    {
     "name": "stderr",
     "output_type": "stream",
     "text": [
      "[nltk_data] Downloading package punkt to\n",
      "[nltk_data]     /Users/mirandahunter/nltk_data...\n",
      "[nltk_data]   Package punkt is already up-to-date!\n"
     ]
    },
    {
     "data": {
      "text/plain": [
       "True"
      ]
     },
     "execution_count": 1,
     "metadata": {},
     "output_type": "execute_result"
    }
   ],
   "source": [
    "import pandas as pd\n",
    "import numpy as np\n",
    "import nltk\n",
    "from nltk.tokenize import word_tokenize\n",
    "nltk.download('punkt')"
   ]
  },
  {
   "cell_type": "code",
   "execution_count": 2,
   "id": "2be829a3-5952-40b4-b281-8759125050dc",
   "metadata": {},
   "outputs": [
    {
     "name": "stderr",
     "output_type": "stream",
     "text": [
      "2023-04-25 09:27:05.876262: I tensorflow/core/platform/cpu_feature_guard.cc:193] This TensorFlow binary is optimized with oneAPI Deep Neural Network Library (oneDNN) to use the following CPU instructions in performance-critical operations:  SSE4.1 SSE4.2 AVX AVX2 FMA\n",
      "To enable them in other operations, rebuild TensorFlow with the appropriate compiler flags.\n"
     ]
    }
   ],
   "source": [
    "from keras.preprocessing.text import Tokenizer\n",
    "from keras.utils import pad_sequences\n",
    "from keras import regularizers"
   ]
  },
  {
   "cell_type": "code",
   "execution_count": 29,
   "id": "62ed7558-0b99-473e-91ae-1473ffe5032d",
   "metadata": {},
   "outputs": [],
   "source": [
    "from keras.models import Sequential\n",
    "from keras import layers\n",
    "from keras import regularizers\n",
    "from keras import backend as K\n",
    "from keras.callbacks import ModelCheckpoint, EarlyStopping"
   ]
  },
  {
   "cell_type": "code",
   "execution_count": 4,
   "id": "7c61b543-545a-485b-9193-37380e0c7d68",
   "metadata": {},
   "outputs": [],
   "source": [
    "from keras.layers import Embedding"
   ]
  },
  {
   "cell_type": "code",
   "execution_count": 5,
   "id": "b1f479d6-ac31-4c3b-b495-ebffe4b0b296",
   "metadata": {},
   "outputs": [],
   "source": [
    "import tensorflow as tf"
   ]
  },
  {
   "cell_type": "markdown",
   "id": "e7aaba77-578e-474e-b873-da73995b6ab8",
   "metadata": {},
   "source": [
    "### reading file and extracting pandas dataframe from it"
   ]
  },
  {
   "cell_type": "code",
   "execution_count": 6,
   "id": "68178b23-4390-486d-ac55-ecd2ccf0ca6c",
   "metadata": {},
   "outputs": [],
   "source": [
    "path = \"clean_IMDBdataset.csv\"\n",
    "df = pd.read_csv(path, sep=\",\")"
   ]
  },
  {
   "cell_type": "markdown",
   "id": "3d80a4ab-f42f-4db7-a4df-1bff0c5fb280",
   "metadata": {},
   "source": [
    "### splitting dataset into training, testing, validation"
   ]
  },
  {
   "cell_type": "code",
   "execution_count": 83,
   "id": "bf1cf5b7-535c-4ed2-aa09-b54f2b591758",
   "metadata": {},
   "outputs": [
    {
     "name": "stdout",
     "output_type": "stream",
     "text": [
      "Train:  (40000,) (40000,) Test/Valid:  ((10000,), (10000,))\n"
     ]
    }
   ],
   "source": [
    "#splitting clean IMDB dataset into training (80%), testing/validation(20%)\n",
    "from sklearn.model_selection import train_test_split\n",
    "X_train,X_test,Y_train, Y_test = train_test_split(df['Phrase'], df['Sentiment'], test_size=0.2, random_state=30)\n",
    "print(\"Train: \" ,X_train.shape,Y_train.shape,\"Test/Valid: \",(X_test.shape,Y_test.shape))"
   ]
  },
  {
   "cell_type": "code",
   "execution_count": 84,
   "id": "1e2b1ba2-a659-40f0-93a5-c2d6db473a20",
   "metadata": {},
   "outputs": [
    {
     "name": "stdout",
     "output_type": "stream",
     "text": [
      "Test:  (5000,) (5000,) Valid:  ((5000,), (5000,))\n"
     ]
    }
   ],
   "source": [
    "#splitting testing/validation into separate groups so testing is 10% and validation is 10%\n",
    "X_test,X_valid,Y_test, Y_valid = train_test_split(X_test,Y_test, test_size=0.5, random_state=30)\n",
    "print(\"Test: \" ,X_test.shape,Y_test.shape,\"Valid: \",(X_valid.shape,Y_valid.shape))"
   ]
  },
  {
   "cell_type": "markdown",
   "id": "40e13f21-193f-4061-887b-62b3aa462432",
   "metadata": {},
   "source": [
    "### Turning strings into 0s and 1s"
   ]
  },
  {
   "cell_type": "code",
   "execution_count": 85,
   "id": "e1b2a298-7e23-4505-8356-6244cf899b0a",
   "metadata": {},
   "outputs": [],
   "source": [
    "Y_test[Y_test == \"negative\"] = 0\n",
    "Y_test[Y_test == \"positive\"] = 1\n",
    "\n",
    "Y_valid[Y_valid == \"negative\"] = 0\n",
    "Y_valid[Y_valid == \"positive\"] = 1\n",
    "\n",
    "Y_train[Y_train == \"negative\"] = 0\n",
    "Y_train[Y_train == \"positive\"] = 1"
   ]
  },
  {
   "cell_type": "markdown",
   "id": "d7dca629-f09b-4b6c-8f7f-9be9ce343914",
   "metadata": {},
   "source": [
    "### Changing Y train and Y valid to float arrays"
   ]
  },
  {
   "cell_type": "code",
   "execution_count": 10,
   "id": "e8680b04-629e-476b-98a3-c901058b5f83",
   "metadata": {
    "tags": []
   },
   "outputs": [],
   "source": [
    "Y_train_array = np.asarray(Y_train).astype(np.float32)"
   ]
  },
  {
   "cell_type": "code",
   "execution_count": 11,
   "id": "4c031008-5985-4331-b6ce-5d60bbd6fbc0",
   "metadata": {},
   "outputs": [],
   "source": [
    "Y_valid_array = np.asarray(Y_valid).astype(np.float32)"
   ]
  },
  {
   "cell_type": "markdown",
   "id": "aae801a9-615b-488f-94e0-ff31d99aa97d",
   "metadata": {},
   "source": [
    "### Creating smaller train groups"
   ]
  },
  {
   "cell_type": "code",
   "execution_count": 12,
   "id": "98db8425-d8cb-46be-bd45-f95dab060fea",
   "metadata": {},
   "outputs": [],
   "source": [
    "small_X_train = X_train[:1000]\n",
    "small_Y_train = Y_valid_array[:1000]"
   ]
  },
  {
   "cell_type": "code",
   "execution_count": 13,
   "id": "b983488b-cada-4a57-a2be-8a1f9cdda7f6",
   "metadata": {},
   "outputs": [],
   "source": [
    "small_X_valid = X_valid[:200]\n",
    "small_Y_valid = Y_valid_array[:200]"
   ]
  },
  {
   "cell_type": "markdown",
   "id": "885b67a6-adb8-4498-8b0c-a58ac4383b48",
   "metadata": {},
   "source": [
    "### tokenizing train and valid data"
   ]
  },
  {
   "cell_type": "code",
   "execution_count": 24,
   "id": "57c00b6a-0978-4947-b871-76964b11fbad",
   "metadata": {},
   "outputs": [],
   "source": [
    "#the maximum number of words to keep, based on word frequency. Only the most common num_words-1 words will be kept.\n",
    "max_words = 2000\n",
    "max_len=500\n",
    "\n",
    "#creating tokenizer by turning each text into either a sequence of integers \n",
    "#(each integer being the index of a token in a dictionary) or into a vector where the coefficient \n",
    "#for each token could be binary, based on word count, based on tf-idf...\n",
    "tokenizer = Tokenizer(num_words=max_words,lower=True,split=' ')\n",
    "\n",
    "#Updates internal vocabulary based on a list of texts.\n",
    "#In the case where texts contains lists, we assume each entry of the lists to be a token.\n",
    "tokenizer.fit_on_texts(X_train)\n",
    "\n",
    "#Transforms each text in texts to a sequence of integers.\n",
    "sequences = tokenizer.texts_to_sequences(X_train)\n",
    "\n",
    "#This function transforms a list (of length num_samples) of sequences (lists of integers) into a 2D Numpy array of shape \n",
    "#(num_samples, num_timesteps). num_timesteps is either the maxlen argument if provided, or the length of the longest \n",
    "#sequence in the list.\n",
    "X_train_sequences = pad_sequences(sequences, maxlen=max_len)"
   ]
  },
  {
   "cell_type": "code",
   "execution_count": 25,
   "id": "2ba6fbe3-dee5-4e63-a46b-330badce119a",
   "metadata": {},
   "outputs": [],
   "source": [
    "# the maximum number of words to keep, based on word frequency. Only the most common num_words-1 words will be kept.\n",
    "max_words = 2000\n",
    "max_len=500\n",
    "\n",
    "#creating tokenizer by turning each text into either a sequence of integers \n",
    "#(each integer being the index of a token in a dictionary) or into a vector where the coefficient \n",
    "#for each token could be binary, based on word count, based on tf-idf...\n",
    "tokenizer = Tokenizer(num_words=max_words,lower=True,split=' ')\n",
    "\n",
    "#Updates internal vocabulary based on a list of texts.\n",
    "#In the case where texts contains lists, we assume each entry of the lists to be a token.\n",
    "tokenizer.fit_on_texts(X_valid)\n",
    "\n",
    "#Transforms each text in texts to a sequence of integers.\n",
    "sequences = tokenizer.texts_to_sequences(X_valid)\n",
    "\n",
    "#This function transforms a list (of length num_samples) of sequences (lists of integers) into a 2D Numpy array of shape \n",
    "#(num_samples, num_timesteps). num_timesteps is either the maxlen argument if provided, or the length of the longest \n",
    "#sequence in the list.\n",
    "X_valid_sequences = pad_sequences(sequences, maxlen=max_len)"
   ]
  },
  {
   "cell_type": "markdown",
   "id": "b2a4062d-ed7b-4356-808b-c5946c583a1b",
   "metadata": {},
   "source": [
    "### Tokenizing small training arrays"
   ]
  },
  {
   "cell_type": "code",
   "execution_count": 16,
   "id": "2a370eda-59c5-4874-86e0-12922f87a486",
   "metadata": {},
   "outputs": [],
   "source": [
    "max_words = 1000\n",
    "max_len=500\n",
    "\n",
    "tokenizer = Tokenizer(num_words=max_words,lower=True,split=' ')\n",
    "\n",
    "tokenizer.fit_on_texts(small_X_train)\n",
    "\n",
    "sequences = tokenizer.texts_to_sequences(small_X_train)\n",
    "\n",
    "small_X_train_sequences = pad_sequences(sequences, maxlen=max_len)"
   ]
  },
  {
   "cell_type": "code",
   "execution_count": 17,
   "id": "6fc97f1a-dc50-4631-b19f-fa006eb5dd40",
   "metadata": {},
   "outputs": [],
   "source": [
    "max_words = 1000\n",
    "max_len=500\n",
    "\n",
    "tokenizer = Tokenizer(num_words=max_words,lower=True,split=' ')\n",
    "\n",
    "tokenizer.fit_on_texts(small_X_valid)\n",
    "\n",
    "sequences = tokenizer.texts_to_sequences(small_X_valid)\n",
    "\n",
    "small_X_valid_sequences = pad_sequences(sequences, maxlen=max_len)"
   ]
  },
  {
   "cell_type": "markdown",
   "id": "e43e29e7-59aa-4dea-bc57-ddf207821ad8",
   "metadata": {},
   "source": [
    "### First LSTM Model, ultimately realized using a simpler model was better"
   ]
  },
  {
   "cell_type": "code",
   "execution_count": 32,
   "id": "004d9f48-bcf8-41e9-b13d-9d76debaf046",
   "metadata": {},
   "outputs": [],
   "source": [
    "#first LSTM model, using better (?) binary RNN model below\n",
    "model1 = Sequential()\n",
    "model1.add(layers.Embedding(max_words, 20)) #The embedding layer\n",
    "model1.add(layers.LSTM(15,dropout=0)) #Our LSTM layer\n",
    "model1.add(layers.Dense(1,activation='sigmoid'))\n"
   ]
  },
  {
   "cell_type": "code",
   "execution_count": 33,
   "id": "4682d3eb-4e70-4660-8dc8-86f2b3e68466",
   "metadata": {},
   "outputs": [],
   "source": [
    "model1.compile(optimizer='rmsprop',loss='binary_crossentropy', metrics=['accuracy'])"
   ]
  },
  {
   "cell_type": "code",
   "execution_count": 34,
   "id": "fe507adc-e1c3-4fba-8efe-51a8ecb5655d",
   "metadata": {},
   "outputs": [],
   "source": [
    "checkpoint1 = ModelCheckpoint(\"best_model1.hdf5\", monitor='val_loss', verbose=0,save_best_only=True, mode='auto', save_freq=\"epoch\",save_weights_only=False)"
   ]
  },
  {
   "cell_type": "code",
   "execution_count": 35,
   "id": "cbd2789d-0957-4fb2-b23e-27a7f2802592",
   "metadata": {},
   "outputs": [
    {
     "name": "stdout",
     "output_type": "stream",
     "text": [
      "1250/1250 [==============================] - 247s 195ms/step - loss: 0.4208 - accuracy: 0.8128 - val_loss: 0.9405 - val_accuracy: 0.5092\n"
     ]
    }
   ],
   "source": [
    "history = model1.fit(X_train_sequences, Y_train_array, epochs=1,validation_data=(X_valid_sequences, Y_valid_array),verbose = 1,callbacks=[checkpoint1])"
   ]
  },
  {
   "cell_type": "markdown",
   "id": "a7601fe1-a1b0-4219-ac46-2c8412519fdd",
   "metadata": {},
   "source": [
    "### Bidirectional Model, way too complex"
   ]
  },
  {
   "cell_type": "code",
   "execution_count": 37,
   "id": "b3589d88-1182-494b-8a77-95529b4bc9d2",
   "metadata": {},
   "outputs": [],
   "source": [
    "#A Sequential model is appropriate for a plain stack of layers where each layer \n",
    "#has exactly one input tensor and one output tensor.\n",
    "model2 = Sequential()"
   ]
  },
  {
   "cell_type": "code",
   "execution_count": 38,
   "id": "41d5e9c1-5ed0-483f-b9a4-1f75075985b2",
   "metadata": {},
   "outputs": [],
   "source": [
    "#adding embedding layer with input dimension of 2000 (max_words) and output layer of 40 (?), all inputs are 500\n",
    "model2.add(layers.Embedding(max_words, 40, input_length=max_len))"
   ]
  },
  {
   "cell_type": "code",
   "execution_count": 39,
   "id": "5c321260-90d2-4cd6-a6af-9cb484b8526f",
   "metadata": {},
   "outputs": [],
   "source": [
    "#LSTM: dimensionality of output is 20, dropout = Fraction of the units to drop for the linear transformation of the inputs\n",
    "#runs bidirectionally\n",
    "model2.add(layers.Bidirectional(layers.LSTM(20,dropout=0.5)))"
   ]
  },
  {
   "cell_type": "code",
   "execution_count": 40,
   "id": "0c455217-d948-4055-ada7-ed43e074ca87",
   "metadata": {},
   "outputs": [],
   "source": [
    "#dimensionality 1 for output, Activation function to use, could also try other functions?\n",
    "model2.add(layers.Dense(1,activation='sigmoid'))"
   ]
  },
  {
   "cell_type": "code",
   "execution_count": 41,
   "id": "bfec97c1-e9ef-4d98-b93a-047d0c6845d9",
   "metadata": {},
   "outputs": [],
   "source": [
    "#String (name of optimizer) or optimizer instance\n",
    "#Loss function. May be a string (name of loss function), or a tf.keras.losses.Loss instance.\n",
    "#List of metrics to be evaluated by the model during training and testing. Each of this can be a string (name of a built-in function), \n",
    "    #function or a tf.keras.metrics.Metric instance\n",
    "model2.compile(optimizer='rmsprop',loss='binary_crossentropy', metrics=['accuracy'])"
   ]
  },
  {
   "cell_type": "code",
   "execution_count": 42,
   "id": "b64aac48-584c-4b90-8de3-2470cdce651d",
   "metadata": {},
   "outputs": [],
   "source": [
    "#Callback to save the Keras model or model weights at some frequency.\n",
    "#first thing: filepath\n",
    "#monitor: The metric name to monitor. Typically the metrics are set by the Model.compile method.\n",
    "#verbose: Verbosity mode, 0 or 1. Mode 0 is silent, and mode 1 displays messages when the callback takes an action.\n",
    "#if save_best_only=True, it only saves when the model is considered the \"best\" and the latest best model \n",
    "    #according to the quantity monitored will not be overwritten\n",
    "#mode: one of {'auto', 'min', 'max'}. If save_best_only=True, the decision to overwrite the current save file is made based on \n",
    "    #either the maximization or the minimization of the monitored quantity\n",
    "#save_freq:'epoch' or integer. When using 'epoch', the callback saves the model after each epoch. When using integer, \n",
    "    #the callback saves the model at end of this many batches.\n",
    "#save_weight_only:if True, then only the model's weights will be saved (model.save_weights(filepath)), else the full model is saved\n",
    "checkpoint2 = ModelCheckpoint(\"best_model2.hdf5\", monitor='val_loss', verbose=0,save_best_only=True, mode='auto', save_freq=\"epoch\",save_weights_only=False)"
   ]
  },
  {
   "cell_type": "code",
   "execution_count": 43,
   "id": "20405c9e-e720-4245-88e6-c4e12e1ee804",
   "metadata": {},
   "outputs": [
    {
     "name": "stdout",
     "output_type": "stream",
     "text": [
      "1250/1250 [==============================] - 418s 332ms/step - loss: 0.4219 - accuracy: 0.8098 - val_loss: 0.9559 - val_accuracy: 0.5118\n"
     ]
    }
   ],
   "source": [
    "history = model2.fit(X_train_sequences, Y_train_array, epochs=1,validation_data=(X_valid_sequences, Y_valid_array),verbose=1,callbacks=[checkpoint2])"
   ]
  },
  {
   "cell_type": "markdown",
   "id": "e66420f3-f6a8-4fdb-a87f-fb902790d835",
   "metadata": {},
   "source": [
    "### First Simple RNN Model, using L1 regularizer at 0.01 and 0.3 dropout. Best val_acc at epoch 1 at .56"
   ]
  },
  {
   "cell_type": "code",
   "execution_count": 12,
   "id": "05c92022-6a93-4db8-9f33-0de69f06d50d",
   "metadata": {},
   "outputs": [
    {
     "name": "stderr",
     "output_type": "stream",
     "text": [
      "2023-04-21 14:49:53.088736: I tensorflow/core/platform/cpu_feature_guard.cc:193] This TensorFlow binary is optimized with oneAPI Deep Neural Network Library (oneDNN) to use the following CPU instructions in performance-critical operations:  SSE4.1 SSE4.2 AVX AVX2 FMA\n",
      "To enable them in other operations, rebuild TensorFlow with the appropriate compiler flags.\n"
     ]
    }
   ],
   "source": [
    "model3 = Sequential()\n",
    "model3.add(layers.Embedding(max_words, 500)) #The embedding layer\n",
    "model3.add(layers.Dense(200,activation='sigmoid'))\n",
    "model3.add(layers.Dense(100,activation='sigmoid'))\n",
    "model3.add(layers.Dense(20,activation='sigmoid'))\n",
    "model3.add(layers.SimpleRNN(20,dropout=0.3, kernel_regularizer='l1'))\n",
    "model3.add(layers.Dense(1,activation='sigmoid'))"
   ]
  },
  {
   "cell_type": "code",
   "execution_count": 13,
   "id": "cc54fd1b-6dfc-45c5-abf2-df84d3ea7245",
   "metadata": {},
   "outputs": [],
   "source": [
    "model3.compile(optimizer='rmsprop',loss='binary_crossentropy', metrics=['accuracy'])"
   ]
  },
  {
   "cell_type": "code",
   "execution_count": 19,
   "id": "1251f060-faac-40d4-a160-cf0489454402",
   "metadata": {},
   "outputs": [],
   "source": [
    "checkpoint3 = ModelCheckpoint(\"best_model1.hdf5\", monitor='val_loss', verbose=0,save_best_only=True, mode='auto', save_freq=\"epoch\",save_weights_only=False)"
   ]
  },
  {
   "cell_type": "code",
   "execution_count": 20,
   "id": "1b620207-f10e-41ca-924f-8afb6d231fa5",
   "metadata": {},
   "outputs": [
    {
     "name": "stdout",
     "output_type": "stream",
     "text": [
      "Epoch 1/10\n",
      "625/625 [==============================] - 328s 522ms/step - loss: 0.8751 - accuracy: 0.6097 - val_loss: 0.8049 - val_accuracy: 0.5646\n",
      "Epoch 2/10\n",
      "625/625 [==============================] - 416s 666ms/step - loss: 0.5980 - accuracy: 0.7312 - val_loss: 1.0649 - val_accuracy: 0.5022\n",
      "Epoch 3/10\n",
      "625/625 [==============================] - 364s 582ms/step - loss: 0.5240 - accuracy: 0.7775 - val_loss: 0.9120 - val_accuracy: 0.5370\n",
      "Epoch 4/10\n",
      "625/625 [==============================] - 336s 538ms/step - loss: 0.4819 - accuracy: 0.8028 - val_loss: 0.8603 - val_accuracy: 0.5184\n",
      "Epoch 5/10\n",
      "625/625 [==============================] - 346s 553ms/step - loss: 0.4760 - accuracy: 0.8027 - val_loss: 0.8541 - val_accuracy: 0.5142\n",
      "Epoch 6/10\n",
      "625/625 [==============================] - 337s 539ms/step - loss: 0.4448 - accuracy: 0.8232 - val_loss: 1.0358 - val_accuracy: 0.4980\n",
      "Epoch 7/10\n",
      "625/625 [==============================] - 332s 532ms/step - loss: 0.4319 - accuracy: 0.8278 - val_loss: 0.9659 - val_accuracy: 0.5016\n",
      "Epoch 8/10\n",
      "625/625 [==============================] - 335s 537ms/step - loss: 0.4373 - accuracy: 0.8292 - val_loss: 1.2048 - val_accuracy: 0.5086\n",
      "Epoch 9/10\n",
      "625/625 [==============================] - 339s 543ms/step - loss: 0.4301 - accuracy: 0.8314 - val_loss: 0.9511 - val_accuracy: 0.5028\n",
      "Epoch 10/10\n",
      "625/625 [==============================] - 339s 543ms/step - loss: 0.4125 - accuracy: 0.8367 - val_loss: 0.8902 - val_accuracy: 0.5048\n"
     ]
    }
   ],
   "source": [
    "history3 = model3.fit(X_train_sequences, Y_train_array, epochs=10,validation_data=(X_valid_sequences, Y_valid_array),batch_size=64,verbose = 1,callbacks=[checkpoint3])"
   ]
  },
  {
   "cell_type": "markdown",
   "id": "1b6bc6dc-2c97-4156-b935-fbbc03830354",
   "metadata": {},
   "source": [
    "### Simple RNN using L2 regularizer and 0.3 dropout, best val_acc at epoch 2 at 0.54"
   ]
  },
  {
   "cell_type": "code",
   "execution_count": 21,
   "id": "db5fd8b8-ba3d-4ba3-91f9-44aa2cbeecb5",
   "metadata": {},
   "outputs": [],
   "source": [
    "model4 = Sequential()\n",
    "model4.add(layers.Embedding(max_words, 500)) #The embedding layer\n",
    "model4.add(layers.Dense(200,activation='sigmoid'))\n",
    "model4.add(layers.Dense(100,activation='sigmoid'))\n",
    "model4.add(layers.Dense(20,activation='sigmoid'))\n",
    "model4.add(layers.SimpleRNN(20,dropout=0.3, kernel_regularizer='l2'))\n",
    "model4.add(layers.Dense(1,activation='sigmoid'))"
   ]
  },
  {
   "cell_type": "code",
   "execution_count": 22,
   "id": "7846a9e3-08a8-4203-9966-31281e4480c4",
   "metadata": {},
   "outputs": [],
   "source": [
    "model4.compile(optimizer='rmsprop',loss='binary_crossentropy', metrics=['accuracy'])"
   ]
  },
  {
   "cell_type": "code",
   "execution_count": 23,
   "id": "54215b6b-8d0e-4c65-8d45-dd1332b5f0ff",
   "metadata": {},
   "outputs": [],
   "source": [
    "checkpoint4 = ModelCheckpoint(\"best_model1.hdf5\", monitor='val_loss', verbose=0,save_best_only=True, mode='auto', save_freq=\"epoch\",save_weights_only=False)"
   ]
  },
  {
   "cell_type": "code",
   "execution_count": 24,
   "id": "1126b927-e5d8-4f1a-aa50-f83d745d0555",
   "metadata": {},
   "outputs": [
    {
     "name": "stdout",
     "output_type": "stream",
     "text": [
      "Epoch 1/10\n",
      "625/625 [==============================] - 359s 572ms/step - loss: 0.7022 - accuracy: 0.6066 - val_loss: 0.8813 - val_accuracy: 0.5054\n",
      "Epoch 2/10\n",
      "625/625 [==============================] - 351s 561ms/step - loss: 0.5665 - accuracy: 0.7312 - val_loss: 0.7811 - val_accuracy: 0.5468\n",
      "Epoch 3/10\n",
      "625/625 [==============================] - 360s 575ms/step - loss: 0.4907 - accuracy: 0.7809 - val_loss: 0.9043 - val_accuracy: 0.5064\n",
      "Epoch 4/10\n",
      "625/625 [==============================] - 354s 566ms/step - loss: 0.4541 - accuracy: 0.8022 - val_loss: 0.9246 - val_accuracy: 0.5032\n",
      "Epoch 5/10\n",
      "625/625 [==============================] - 369s 590ms/step - loss: 0.4313 - accuracy: 0.8169 - val_loss: 1.0194 - val_accuracy: 0.4998\n",
      "Epoch 6/10\n",
      "625/625 [==============================] - 346s 553ms/step - loss: 0.4108 - accuracy: 0.8271 - val_loss: 1.0297 - val_accuracy: 0.5016\n",
      "Epoch 7/10\n",
      "625/625 [==============================] - 338s 540ms/step - loss: 0.3993 - accuracy: 0.8334 - val_loss: 1.0618 - val_accuracy: 0.4932\n",
      "Epoch 8/10\n",
      "625/625 [==============================] - 349s 558ms/step - loss: 0.4009 - accuracy: 0.8302 - val_loss: 1.1455 - val_accuracy: 0.4874\n",
      "Epoch 9/10\n",
      "625/625 [==============================] - 344s 551ms/step - loss: 0.3986 - accuracy: 0.8322 - val_loss: 1.0304 - val_accuracy: 0.5116\n",
      "Epoch 10/10\n",
      "625/625 [==============================] - 2491s 4s/step - loss: 0.4148 - accuracy: 0.8248 - val_loss: 1.2654 - val_accuracy: 0.5080\n"
     ]
    }
   ],
   "source": [
    "history4 = model4.fit(X_train_sequences, Y_train_array, epochs=10,validation_data=(X_valid_sequences, Y_valid_array),batch_size=64,verbose = 1,callbacks=[checkpoint4])"
   ]
  },
  {
   "cell_type": "markdown",
   "id": "ae1d6a08-4f2f-4d6e-b301-9d7e600bebbd",
   "metadata": {},
   "source": [
    "### Simple RNN model using l1_l2 regularizer and 0.3 dropout, best val_acc at epoch 2 at 0.53"
   ]
  },
  {
   "cell_type": "code",
   "execution_count": 26,
   "id": "de42c7af-dc66-4d9e-8bae-f27cfd981833",
   "metadata": {},
   "outputs": [
    {
     "name": "stdout",
     "output_type": "stream",
     "text": [
      "Epoch 1/10\n",
      "625/625 [==============================] - 499s 795ms/step - loss: 0.9070 - accuracy: 0.5765 - val_loss: 0.7687 - val_accuracy: 0.5260\n",
      "Epoch 2/10\n",
      "625/625 [==============================] - 347s 556ms/step - loss: 0.6097 - accuracy: 0.7113 - val_loss: 0.7827 - val_accuracy: 0.5304\n",
      "Epoch 3/10\n",
      "625/625 [==============================] - 415s 664ms/step - loss: 0.5100 - accuracy: 0.7794 - val_loss: 0.7975 - val_accuracy: 0.5200\n",
      "Epoch 4/10\n",
      "625/625 [==============================] - 353s 565ms/step - loss: 0.4721 - accuracy: 0.8019 - val_loss: 0.8763 - val_accuracy: 0.5100\n",
      "Epoch 5/10\n",
      "625/625 [==============================] - 365s 584ms/step - loss: 0.4488 - accuracy: 0.8141 - val_loss: 0.9053 - val_accuracy: 0.5074\n",
      "Epoch 6/10\n",
      "625/625 [==============================] - 357s 571ms/step - loss: 0.4368 - accuracy: 0.8204 - val_loss: 0.8730 - val_accuracy: 0.4898\n",
      "Epoch 7/10\n",
      "625/625 [==============================] - 356s 570ms/step - loss: 0.4236 - accuracy: 0.8271 - val_loss: 0.8661 - val_accuracy: 0.4914\n",
      "Epoch 8/10\n",
      "625/625 [==============================] - 360s 576ms/step - loss: 0.4070 - accuracy: 0.8364 - val_loss: 0.9569 - val_accuracy: 0.4950\n",
      "Epoch 9/10\n",
      "625/625 [==============================] - 358s 573ms/step - loss: 0.4131 - accuracy: 0.8350 - val_loss: 1.0628 - val_accuracy: 0.4896\n",
      "Epoch 10/10\n",
      "625/625 [==============================] - 359s 575ms/step - loss: 0.4065 - accuracy: 0.8363 - val_loss: 0.9969 - val_accuracy: 0.5002\n"
     ]
    }
   ],
   "source": [
    "model5 = Sequential()\n",
    "model5.add(layers.Embedding(max_words, 500)) #The embedding layer\n",
    "model5.add(layers.Dense(200,activation='sigmoid'))\n",
    "model5.add(layers.Dense(100,activation='sigmoid'))\n",
    "model5.add(layers.Dense(20,activation='sigmoid'))\n",
    "model5.add(layers.SimpleRNN(20,dropout=0.3, kernel_regularizer='l1_l2'))\n",
    "model5.add(layers.Dense(1,activation='sigmoid'))\n",
    "model5.compile(optimizer='rmsprop',loss='binary_crossentropy', metrics=['accuracy'])\n",
    "checkpoint5 = ModelCheckpoint(\"best_model1.hdf5\", monitor='val_loss', verbose=0,save_best_only=True, mode='auto', save_freq=\"epoch\",save_weights_only=False)\n",
    "history5 = model5.fit(X_train_sequences, Y_train_array, epochs=10,validation_data=(X_valid_sequences, Y_valid_array),batch_size=64,verbose = 1,callbacks=[checkpoint5])"
   ]
  },
  {
   "cell_type": "markdown",
   "id": "3d08d30b-c9b2-489c-be00-44b7ee20818d",
   "metadata": {},
   "source": [
    "### Simple RNN model using orthogonal regularizer, best val_acc at Epoch 2 at 0.52"
   ]
  },
  {
   "cell_type": "code",
   "execution_count": 27,
   "id": "9dd111f8-080b-44d4-9953-d2ac35392d6a",
   "metadata": {},
   "outputs": [
    {
     "name": "stdout",
     "output_type": "stream",
     "text": [
      "Epoch 1/10\n",
      "625/625 [==============================] - 727s 1s/step - loss: 0.6481 - accuracy: 0.6086 - val_loss: 0.8148 - val_accuracy: 0.5040\n",
      "Epoch 2/10\n",
      "625/625 [==============================] - 355s 568ms/step - loss: 0.5659 - accuracy: 0.7199 - val_loss: 0.8297 - val_accuracy: 0.5248\n",
      "Epoch 3/10\n",
      "625/625 [==============================] - 351s 562ms/step - loss: 0.5110 - accuracy: 0.7626 - val_loss: 0.8578 - val_accuracy: 0.5038\n",
      "Epoch 4/10\n",
      "625/625 [==============================] - 440s 705ms/step - loss: 0.4869 - accuracy: 0.7782 - val_loss: 0.8794 - val_accuracy: 0.5166\n",
      "Epoch 5/10\n",
      "625/625 [==============================] - 368s 589ms/step - loss: 0.4777 - accuracy: 0.7820 - val_loss: 0.9215 - val_accuracy: 0.5056\n",
      "Epoch 6/10\n",
      "625/625 [==============================] - 349s 558ms/step - loss: 0.4801 - accuracy: 0.7816 - val_loss: 1.0778 - val_accuracy: 0.4894\n",
      "Epoch 7/10\n",
      "625/625 [==============================] - 349s 558ms/step - loss: 0.4545 - accuracy: 0.8012 - val_loss: 0.8755 - val_accuracy: 0.4912\n",
      "Epoch 8/10\n",
      "625/625 [==============================] - 342s 547ms/step - loss: 0.4652 - accuracy: 0.7911 - val_loss: 0.9085 - val_accuracy: 0.4978\n",
      "Epoch 9/10\n",
      "625/625 [==============================] - 349s 559ms/step - loss: 0.4430 - accuracy: 0.8033 - val_loss: 0.9588 - val_accuracy: 0.4906\n",
      "Epoch 10/10\n",
      "625/625 [==============================] - 359s 574ms/step - loss: 0.4469 - accuracy: 0.7978 - val_loss: 0.8937 - val_accuracy: 0.4986\n"
     ]
    }
   ],
   "source": [
    "regularizer = tf.keras.regularizers.OrthogonalRegularizer(factor=0.01)\n",
    "\n",
    "model6 = Sequential()\n",
    "model6.add(layers.Embedding(max_words, 500)) #The embedding layer\n",
    "model6.add(layers.Dense(200,activation='sigmoid'))\n",
    "model6.add(layers.Dense(100,activation='sigmoid'))\n",
    "model6.add(layers.Dense(20,activation='sigmoid'))\n",
    "model6.add(layers.SimpleRNN(20,dropout=0.3, kernel_regularizer=regularizer))\n",
    "model6.add(layers.Dense(1,activation='sigmoid'))\n",
    "model6.compile(optimizer='rmsprop',loss='binary_crossentropy', metrics=['accuracy'])\n",
    "checkpoint6 = ModelCheckpoint(\"best_model1.hdf5\", monitor='val_loss', verbose=0,save_best_only=True, mode='auto', save_freq=\"epoch\",save_weights_only=False)\n",
    "history6 = model6.fit(X_train_sequences, Y_train_array, epochs=10,validation_data=(X_valid_sequences, Y_valid_array),batch_size=64,verbose = 1,callbacks=[checkpoint6])"
   ]
  },
  {
   "cell_type": "markdown",
   "id": "2000d1d2-252b-4171-8330-ec07cc7eb005",
   "metadata": {},
   "source": [
    "### Simple RNN model using L1 regularizer at 0.03, best val_acc at epoch 1 at 0.55"
   ]
  },
  {
   "cell_type": "code",
   "execution_count": 38,
   "id": "92aaad64-c4ba-40f3-9aab-3290f9367e89",
   "metadata": {},
   "outputs": [
    {
     "name": "stdout",
     "output_type": "stream",
     "text": [
      "Epoch 1/5\n",
      "1250/1250 [==============================] - 454s 360ms/step - loss: 0.9122 - accuracy: 0.6034 - val_loss: 0.7953 - val_accuracy: 0.5516\n",
      "Epoch 2/5\n",
      "1250/1250 [==============================] - 478s 383ms/step - loss: 0.5571 - accuracy: 0.7563 - val_loss: 1.0360 - val_accuracy: 0.5122\n",
      "Epoch 3/5\n",
      "1250/1250 [==============================] - 461s 369ms/step - loss: 0.5025 - accuracy: 0.7934 - val_loss: 0.9773 - val_accuracy: 0.5404\n",
      "Epoch 4/5\n",
      "1250/1250 [==============================] - 444s 355ms/step - loss: 0.4785 - accuracy: 0.8077 - val_loss: 0.9791 - val_accuracy: 0.5176\n",
      "Epoch 5/5\n",
      "1250/1250 [==============================] - 443s 355ms/step - loss: 0.4657 - accuracy: 0.8177 - val_loss: 0.9713 - val_accuracy: 0.5080\n"
     ]
    }
   ],
   "source": [
    "regularizer = tf.keras.regularizers.L1(l1=0.03)\n",
    "model7 = Sequential()\n",
    "model7.add(layers.Embedding(max_words, 500)) #The embedding layer\n",
    "model7.add(layers.Dense(200,activation='sigmoid'))\n",
    "model7.add(layers.Dense(100,activation='sigmoid'))\n",
    "model7.add(layers.Dense(20,activation='sigmoid'))\n",
    "model7.add(layers.SimpleRNN(20,dropout=0.3, kernel_regularizer=regularizer))\n",
    "model7.add(layers.Dense(1,activation='sigmoid'))\n",
    "model7.compile(optimizer='rmsprop',loss='binary_crossentropy', metrics=['accuracy'])\n",
    "checkpoint7 = ModelCheckpoint(\"best_model1.hdf5\", monitor='val_loss', verbose=0,save_best_only=True, mode='auto', save_freq=\"epoch\",save_weights_only=False)\n",
    "history5 = model7.fit(X_train_sequences, Y_train_array, epochs=5,validation_data=(X_valid_sequences, Y_valid_array),batch_size=32,verbose = 1,callbacks=[checkpoint7])"
   ]
  },
  {
   "cell_type": "markdown",
   "id": "431d9318-cf47-4618-965c-74ea4f4c5cde",
   "metadata": {},
   "source": [
    "### Simple RNN model using L1 regularizer at 0.05, best val_acc at epoch 2 at 0.56"
   ]
  },
  {
   "cell_type": "code",
   "execution_count": 39,
   "id": "160419c1-cf97-4a23-850e-da65c8195246",
   "metadata": {},
   "outputs": [
    {
     "name": "stdout",
     "output_type": "stream",
     "text": [
      "Epoch 1/5\n",
      "625/625 [==============================] - 343s 546ms/step - loss: 1.4615 - accuracy: 0.6026 - val_loss: 0.7862 - val_accuracy: 0.5470\n",
      "Epoch 2/5\n",
      "625/625 [==============================] - 343s 549ms/step - loss: 0.6004 - accuracy: 0.7334 - val_loss: 0.8822 - val_accuracy: 0.5616\n",
      "Epoch 3/5\n",
      "625/625 [==============================] - 342s 548ms/step - loss: 0.5372 - accuracy: 0.7729 - val_loss: 0.9590 - val_accuracy: 0.5200\n",
      "Epoch 4/5\n",
      "625/625 [==============================] - 396s 634ms/step - loss: 0.5094 - accuracy: 0.7915 - val_loss: 0.7964 - val_accuracy: 0.5154\n",
      "Epoch 5/5\n",
      "625/625 [==============================] - 372s 595ms/step - loss: 0.4853 - accuracy: 0.8051 - val_loss: 0.8701 - val_accuracy: 0.5116\n"
     ]
    }
   ],
   "source": [
    "regularizer = tf.keras.regularizers.L1(l1=0.05)\n",
    "model8 = Sequential()\n",
    "model8.add(layers.Embedding(max_words, 500)) #The embedding layer\n",
    "model8.add(layers.Dense(200,activation='sigmoid'))\n",
    "model8.add(layers.Dense(100,activation='sigmoid'))\n",
    "model8.add(layers.Dense(20,activation='sigmoid'))\n",
    "model8.add(layers.SimpleRNN(20,dropout=0.3, kernel_regularizer=regularizer))\n",
    "model8.add(layers.Dense(1,activation='sigmoid'))\n",
    "model8.compile(optimizer='rmsprop',loss='binary_crossentropy', metrics=['accuracy'])\n",
    "checkpoint8 = ModelCheckpoint(\"best_model1.hdf5\", monitor='val_loss', verbose=0,save_best_only=True, mode='auto', save_freq=\"epoch\",save_weights_only=False)\n",
    "history8 = model8.fit(X_train_sequences, Y_train_array, epochs=5,validation_data=(X_valid_sequences, Y_valid_array),batch_size=64,verbose = 1,callbacks=[checkpoint8])"
   ]
  },
  {
   "cell_type": "markdown",
   "id": "a17cb76e-f5e3-4d51-8355-e4b588f77f17",
   "metadata": {},
   "source": [
    "### Simple RNN model using L1 regularizer at 0.1, best val_acc at epoch 2 at 0.55"
   ]
  },
  {
   "cell_type": "code",
   "execution_count": 40,
   "id": "1330a94e-bfda-45ee-958c-235c5bdfe4aa",
   "metadata": {},
   "outputs": [
    {
     "name": "stdout",
     "output_type": "stream",
     "text": [
      "Epoch 1/5\n",
      "625/625 [==============================] - 352s 561ms/step - loss: 2.2327 - accuracy: 0.6217 - val_loss: 0.8126 - val_accuracy: 0.5432\n",
      "Epoch 2/5\n",
      "625/625 [==============================] - 354s 567ms/step - loss: 0.6024 - accuracy: 0.7436 - val_loss: 0.8416 - val_accuracy: 0.5550\n",
      "Epoch 3/5\n",
      "625/625 [==============================] - 353s 565ms/step - loss: 0.5645 - accuracy: 0.7683 - val_loss: 0.8410 - val_accuracy: 0.5444\n",
      "Epoch 4/5\n",
      "625/625 [==============================] - 356s 570ms/step - loss: 0.5292 - accuracy: 0.7874 - val_loss: 1.0071 - val_accuracy: 0.5282\n",
      "Epoch 5/5\n",
      "625/625 [==============================] - 351s 562ms/step - loss: 0.5130 - accuracy: 0.7951 - val_loss: 0.9088 - val_accuracy: 0.5214\n"
     ]
    }
   ],
   "source": [
    "regularizer = tf.keras.regularizers.L1(l1=0.1)\n",
    "model9 = Sequential()\n",
    "model9.add(layers.Embedding(max_words, 500)) #The embedding layer\n",
    "model9.add(layers.Dense(200,activation='sigmoid'))\n",
    "model9.add(layers.Dense(100,activation='sigmoid'))\n",
    "model9.add(layers.Dense(20,activation='sigmoid'))\n",
    "model9.add(layers.SimpleRNN(20,dropout=0.3, kernel_regularizer=regularizer))\n",
    "model9.add(layers.Dense(1,activation='sigmoid'))\n",
    "model9.compile(optimizer='rmsprop',loss='binary_crossentropy', metrics=['accuracy'])\n",
    "checkpoint9 = ModelCheckpoint(\"best_model1.hdf5\", monitor='val_loss', verbose=0,save_best_only=True, mode='auto', save_freq=\"epoch\",save_weights_only=False)\n",
    "history9 = model9.fit(X_train_sequences, Y_train_array, epochs=5,validation_data=(X_valid_sequences, Y_valid_array),batch_size=64,verbose = 1,callbacks=[checkpoint9])"
   ]
  },
  {
   "cell_type": "markdown",
   "id": "5f6b7718-11bd-440e-b22f-e240db986b2b",
   "metadata": {},
   "source": [
    "### Simple RNN model using L1 regularizer at 0.1 and batch size = 128, best val_acc at epoch 3 at 0.55"
   ]
  },
  {
   "cell_type": "code",
   "execution_count": 41,
   "id": "b2f8330c-7bd6-4768-9512-272c94957b20",
   "metadata": {},
   "outputs": [
    {
     "name": "stdout",
     "output_type": "stream",
     "text": [
      "Epoch 1/5\n",
      "313/313 [==============================] - 329s 1s/step - loss: 3.9241 - accuracy: 0.6007 - val_loss: 1.5318 - val_accuracy: 0.5266\n",
      "Epoch 2/5\n",
      "313/313 [==============================] - 339s 1s/step - loss: 0.8746 - accuracy: 0.7303 - val_loss: 0.9828 - val_accuracy: 0.5328\n",
      "Epoch 3/5\n",
      "313/313 [==============================] - 332s 1s/step - loss: 0.6485 - accuracy: 0.7539 - val_loss: 0.9088 - val_accuracy: 0.5538\n",
      "Epoch 4/5\n",
      "313/313 [==============================] - 342s 1s/step - loss: 0.5969 - accuracy: 0.7670 - val_loss: 0.8166 - val_accuracy: 0.5366\n",
      "Epoch 5/5\n",
      "313/313 [==============================] - 341s 1s/step - loss: 0.5716 - accuracy: 0.7746 - val_loss: 0.8316 - val_accuracy: 0.5362\n"
     ]
    }
   ],
   "source": [
    "regularizer = tf.keras.regularizers.L1(l1=0.1)\n",
    "model10 = Sequential()\n",
    "model10.add(layers.Embedding(max_words, 500)) #The embedding layer\n",
    "model10.add(layers.Dense(200,activation='sigmoid'))\n",
    "model10.add(layers.Dense(100,activation='sigmoid'))\n",
    "model10.add(layers.Dense(20,activation='sigmoid'))\n",
    "model10.add(layers.SimpleRNN(20,dropout=0.3, kernel_regularizer=regularizer))\n",
    "model10.add(layers.Dense(1,activation='sigmoid'))\n",
    "model10.compile(optimizer='rmsprop',loss='binary_crossentropy', metrics=['accuracy'])\n",
    "checkpoint10 = ModelCheckpoint(\"best_model1.hdf5\", monitor='val_loss', verbose=0,save_best_only=True, mode='auto', save_freq=\"epoch\",save_weights_only=False)\n",
    "history10 = model10.fit(X_train_sequences, Y_train_array, epochs=5,validation_data=(X_valid_sequences, Y_valid_array),batch_size=128,verbose = 1,callbacks=[checkpoint10])"
   ]
  },
  {
   "cell_type": "markdown",
   "id": "5caeaa0a-e9b0-45fa-8e5e-d173c388ed1c",
   "metadata": {},
   "source": [
    "### Simple RNN model using L1 regularizer at 0.08, best val_acc at epoch 5 at 0.54"
   ]
  },
  {
   "cell_type": "code",
   "execution_count": 47,
   "id": "6da888c5-01ae-4a70-b743-f4431a0cd89a",
   "metadata": {},
   "outputs": [
    {
     "name": "stdout",
     "output_type": "stream",
     "text": [
      "Epoch 1/5\n",
      "625/625 [==============================] - 363s 579ms/step - loss: 0.7872 - accuracy: 0.6143 - val_loss: 0.7361 - val_accuracy: 0.5252\n",
      "Epoch 2/5\n",
      "625/625 [==============================] - 375s 600ms/step - loss: 0.6747 - accuracy: 0.6752 - val_loss: 0.7388 - val_accuracy: 0.5142\n",
      "Epoch 3/5\n",
      "625/625 [==============================] - 368s 588ms/step - loss: 0.6607 - accuracy: 0.7066 - val_loss: 0.7811 - val_accuracy: 0.5064\n",
      "Epoch 4/5\n",
      "625/625 [==============================] - 1333s 2s/step - loss: 0.6615 - accuracy: 0.7007 - val_loss: 0.7720 - val_accuracy: 0.5210\n",
      "Epoch 5/5\n",
      "625/625 [==============================] - 1440s 2s/step - loss: 0.6396 - accuracy: 0.7398 - val_loss: 0.7910 - val_accuracy: 0.5394\n"
     ]
    }
   ],
   "source": [
    "regularizer = tf.keras.regularizers.L1(l1=0.08)\n",
    "model10 = Sequential()\n",
    "model10.add(layers.Embedding(max_words, 500)) #The embedding layer\n",
    "model10.add(layers.Dense(200,activation='sigmoid'))\n",
    "model10.add(layers.Dense(100,activation='sigmoid'))\n",
    "model10.add(layers.Dense(20,activation='sigmoid'))\n",
    "model10.add(layers.SimpleRNN(20,dropout=0.2))\n",
    "model10.add(layers.Dense(1,activation='sigmoid', kernel_regularizer=regularizer))\n",
    "model10.compile(optimizer='rmsprop',loss='binary_crossentropy', metrics=['accuracy'])\n",
    "checkpoint10 = ModelCheckpoint(\"best_model1.hdf5\", monitor='val_loss', verbose=0,save_best_only=True, mode='auto', save_freq=\"epoch\",save_weights_only=False)\n",
    "history10 = model10.fit(X_train_sequences, Y_train_array, epochs=5,validation_data=(X_valid_sequences, Y_valid_array),batch_size=64,verbose = 1,callbacks=[checkpoint10])"
   ]
  },
  {
   "cell_type": "markdown",
   "id": "3ae14a73-8ee8-4cd4-ba40-e2cf79d8894d",
   "metadata": {},
   "source": [
    "### Simple RNN model using L1 regularizer at 0.02 and dropout = 0.7, best val_acc at epoch 2 at 0.55"
   ]
  },
  {
   "cell_type": "code",
   "execution_count": 20,
   "id": "ad38df06-534b-4729-a52f-c303fe9aaa1c",
   "metadata": {},
   "outputs": [
    {
     "name": "stdout",
     "output_type": "stream",
     "text": [
      "Epoch 1/5\n",
      "625/625 [==============================] - 362s 577ms/step - loss: 1.0698 - accuracy: 0.5977 - val_loss: 0.8809 - val_accuracy: 0.5268\n",
      "Epoch 2/5\n",
      "625/625 [==============================] - 508s 814ms/step - loss: 0.5923 - accuracy: 0.7446 - val_loss: 0.8594 - val_accuracy: 0.5460\n",
      "Epoch 3/5\n",
      "625/625 [==============================] - 415s 664ms/step - loss: 0.5406 - accuracy: 0.7722 - val_loss: 1.0543 - val_accuracy: 0.5122\n",
      "Epoch 4/5\n",
      "625/625 [==============================] - 409s 654ms/step - loss: 0.5153 - accuracy: 0.7861 - val_loss: 0.8139 - val_accuracy: 0.5032\n",
      "Epoch 5/5\n",
      "625/625 [==============================] - 394s 631ms/step - loss: 0.4982 - accuracy: 0.7916 - val_loss: 0.8747 - val_accuracy: 0.4954\n"
     ]
    }
   ],
   "source": [
    "regularizer = tf.keras.regularizers.L1(l1=0.02)\n",
    "model11 = Sequential()\n",
    "model11.add(layers.Embedding(max_words, 500)) #The embedding layer\n",
    "model11.add(layers.Dense(200,activation='sigmoid'))\n",
    "model11.add(layers.Dense(100,activation='sigmoid'))\n",
    "model11.add(layers.Dense(20,activation='sigmoid'))\n",
    "model11.add(layers.SimpleRNN(20,dropout=0.7, kernel_regularizer=regularizer))\n",
    "model11.add(layers.Dense(1,activation='sigmoid'))\n",
    "model11.compile(optimizer='rmsprop',loss='binary_crossentropy', metrics=['accuracy'])\n",
    "checkpoint11 = ModelCheckpoint(\"best_model1.hdf5\", monitor='val_loss', verbose=0,save_best_only=True, mode='auto', save_freq=\"epoch\",save_weights_only=False)\n",
    "history11 = model11.fit(X_train_sequences, Y_train_array, epochs=5,validation_data=(X_valid_sequences, Y_valid_array),batch_size=64,verbose = 1,callbacks=[checkpoint11])"
   ]
  },
  {
   "cell_type": "markdown",
   "id": "0182de03-e1f9-4f0c-8e41-a5ca5fe790e0",
   "metadata": {},
   "source": [
    "### Simple RNN model using L1 regularizer at 0.015 and mse loss, best val_acc at epoch 1 at 0.55"
   ]
  },
  {
   "cell_type": "code",
   "execution_count": 24,
   "id": "3aac7dd7-ad89-4b9b-a5aa-363af4268d6d",
   "metadata": {},
   "outputs": [
    {
     "name": "stdout",
     "output_type": "stream",
     "text": [
      "Epoch 1/5\n",
      "625/625 [==============================] - 386s 614ms/step - loss: 0.5176 - accuracy: 0.6414 - val_loss: 0.3337 - val_accuracy: 0.5500\n",
      "Epoch 2/5\n",
      "625/625 [==============================] - 367s 586ms/step - loss: 0.1978 - accuracy: 0.7644 - val_loss: 0.3136 - val_accuracy: 0.5344\n",
      "Epoch 3/5\n",
      "625/625 [==============================] - 408s 653ms/step - loss: 0.1727 - accuracy: 0.7897 - val_loss: 0.3736 - val_accuracy: 0.5206\n",
      "Epoch 4/5\n",
      "625/625 [==============================] - 366s 585ms/step - loss: 0.1600 - accuracy: 0.8033 - val_loss: 0.3318 - val_accuracy: 0.5132\n",
      "Epoch 5/5\n",
      "625/625 [==============================] - 395s 633ms/step - loss: 0.1551 - accuracy: 0.8093 - val_loss: 0.3641 - val_accuracy: 0.5070\n"
     ]
    }
   ],
   "source": [
    "regularizer = tf.keras.regularizers.L1(l1=0.015)\n",
    "model12 = Sequential()\n",
    "model12.add(layers.Embedding(max_words, 500)) #The embedding layer\n",
    "model12.add(layers.Dense(200,activation='sigmoid'))\n",
    "model12.add(layers.Dense(100,activation='sigmoid'))\n",
    "model12.add(layers.Dense(20,activation='sigmoid'))\n",
    "model12.add(layers.SimpleRNN(20,dropout=0.4,kernel_regularizer=regularizer))\n",
    "model12.add(layers.Dense(1,activation='sigmoid'))\n",
    "model12.compile(optimizer='rmsprop',loss='mse', metrics=['accuracy'])\n",
    "checkpoint12 = ModelCheckpoint(\"best_model1.hdf5\", monitor='val_loss', verbose=0,save_best_only=True, mode='auto', save_freq=\"epoch\",save_weights_only=False)\n",
    "history12 = model12.fit(X_train_sequences, Y_train_array, epochs=5,validation_data=(X_valid_sequences, Y_valid_array),batch_size=64,verbose = 1,callbacks=[checkpoint12])"
   ]
  },
  {
   "cell_type": "markdown",
   "id": "039c055d-337c-46f7-8f60-765654358c1e",
   "metadata": {},
   "source": [
    "### Simple RNN model using L1 regularizer at 0.01 and relu activation, best val_acc at epoch 3 at 0.51"
   ]
  },
  {
   "cell_type": "code",
   "execution_count": 27,
   "id": "515d40e0-3050-4965-9aa5-3b3a625b97b3",
   "metadata": {},
   "outputs": [
    {
     "name": "stdout",
     "output_type": "stream",
     "text": [
      "Epoch 1/5\n",
      "625/625 [==============================] - 321s 511ms/step - loss: 0.8127 - accuracy: 0.6512 - val_loss: 0.9169 - val_accuracy: 0.5026\n",
      "Epoch 2/5\n",
      "625/625 [==============================] - 345s 552ms/step - loss: 0.5103 - accuracy: 0.7869 - val_loss: 1.0100 - val_accuracy: 0.5012\n",
      "Epoch 3/5\n",
      "625/625 [==============================] - 350s 560ms/step - loss: 0.4483 - accuracy: 0.8173 - val_loss: 1.1620 - val_accuracy: 0.5126\n",
      "Epoch 4/5\n",
      "625/625 [==============================] - 644s 1s/step - loss: 0.4551 - accuracy: 0.8213 - val_loss: 0.8708 - val_accuracy: 0.5012\n",
      "Epoch 5/5\n",
      "625/625 [==============================] - 368s 589ms/step - loss: 0.4167 - accuracy: 0.8343 - val_loss: 1.0726 - val_accuracy: 0.4858\n"
     ]
    }
   ],
   "source": [
    "regularizer = tf.keras.regularizers.L1(l1=0.01)\n",
    "model13 = Sequential()\n",
    "model13.add(layers.Embedding(max_words, 500)) #The embedding layer\n",
    "model13.add(layers.Dense(200,activation='relu'))\n",
    "model13.add(layers.Dense(100,activation='sigmoid'))\n",
    "model13.add(layers.Dense(20,activation='relu'))\n",
    "model13.add(layers.SimpleRNN(20,dropout=0.4,kernel_regularizer=regularizer))\n",
    "model13.add(layers.Dense(1,activation='sigmoid'))\n",
    "model13.compile(optimizer='rmsprop',loss='binary_crossentropy', metrics=['accuracy'])\n",
    "checkpoint13 = ModelCheckpoint(\"best_model1.hdf5\", monitor='val_loss', verbose=0,save_best_only=True, mode='auto', save_freq=\"epoch\",save_weights_only=False)\n",
    "history13 = model13.fit(X_train_sequences, Y_train_array, epochs=5,validation_data=(X_valid_sequences, Y_valid_array),batch_size=64,verbose = 1,callbacks=[checkpoint13])"
   ]
  },
  {
   "cell_type": "markdown",
   "id": "ece1dbca-7da0-4679-ae4c-a79416451ad4",
   "metadata": {},
   "source": [
    "### Adding LeakyReLU layer and adam optimizer, best val_acc at Epoch 2 at .54"
   ]
  },
  {
   "cell_type": "code",
   "execution_count": 54,
   "id": "8470ff12-975e-4c30-b2cf-a3334fb3426c",
   "metadata": {},
   "outputs": [
    {
     "name": "stdout",
     "output_type": "stream",
     "text": [
      "Epoch 1/5\n",
      "313/313 [==============================] - 337s 1s/step - loss: 1.1298 - accuracy: 0.5720 - val_loss: 0.9376 - val_accuracy: 0.4990\n",
      "Epoch 2/5\n",
      "313/313 [==============================] - 326s 1s/step - loss: 0.8091 - accuracy: 0.6356 - val_loss: 0.8854 - val_accuracy: 0.5414\n",
      "Epoch 3/5\n",
      "313/313 [==============================] - 331s 1s/step - loss: 0.6635 - accuracy: 0.7225 - val_loss: 0.9088 - val_accuracy: 0.5442\n",
      "Epoch 4/5\n",
      "313/313 [==============================] - 316s 1s/step - loss: 0.6000 - accuracy: 0.7527 - val_loss: 0.7782 - val_accuracy: 0.5208\n",
      "Epoch 5/5\n",
      "313/313 [==============================] - 329s 1s/step - loss: 0.7965 - accuracy: 0.6092 - val_loss: 0.8074 - val_accuracy: 0.5190\n"
     ]
    }
   ],
   "source": [
    "regularizer = tf.keras.regularizers.L1(l1=0.01)\n",
    "model14 = Sequential()\n",
    "model14.add(layers.Embedding(max_words, 500)) #The embedding layer\n",
    "model14.add(layers.Dense(200,activation='sigmoid'))\n",
    "model14.add(layers.Dense(100,activation='sigmoid'))\n",
    "model14.add(layers.LeakyReLU(alpha=0.3))\n",
    "model14.add(layers.Dense(20,activation='sigmoid'))\n",
    "model14.add(layers.SimpleRNN(20,dropout=0.4,kernel_regularizer=regularizer))\n",
    "model14.add(layers.Dense(1,activation='sigmoid'))\n",
    "model14.compile(optimizer='adam',loss='binary_crossentropy', metrics=['accuracy'])\n",
    "checkpoint14 = ModelCheckpoint(\"best_model1.hdf5\", monitor='val_loss', verbose=0,save_best_only=True, mode='auto', save_freq=\"epoch\",save_weights_only=False)\n",
    "history14 = model14.fit(X_train_sequences, Y_train_array, epochs=5,validation_data=(X_valid_sequences, Y_valid_array),batch_size=128,verbose = 1,callbacks=[checkpoint14])"
   ]
  },
  {
   "cell_type": "markdown",
   "id": "9e2f8b82-8411-4fdf-bba1-14331c211821",
   "metadata": {},
   "source": [
    "### Adding multiple SimpleRNN layers, ran very slowly and not working well so I ended early"
   ]
  },
  {
   "cell_type": "code",
   "execution_count": 61,
   "id": "9e8d2c3c-b332-4fa4-a53e-1976b7f6bd43",
   "metadata": {},
   "outputs": [
    {
     "name": "stdout",
     "output_type": "stream",
     "text": [
      "Epoch 1/5\n",
      "625/625 [==============================] - 607s 968ms/step - loss: 2.0062 - accuracy: 0.5026 - val_loss: 0.7219 - val_accuracy: 0.5020\n",
      "Epoch 2/5\n",
      "625/625 [==============================] - 600s 959ms/step - loss: 0.7188 - accuracy: 0.4975 - val_loss: 0.7179 - val_accuracy: 0.5020\n",
      "Epoch 3/5\n",
      " 21/625 [>.............................] - ETA: 9:39 - loss: 0.7184 - accuracy: 0.5089"
     ]
    },
    {
     "ename": "KeyboardInterrupt",
     "evalue": "",
     "output_type": "error",
     "traceback": [
      "\u001b[0;31m---------------------------------------------------------------------------\u001b[0m",
      "\u001b[0;31mKeyboardInterrupt\u001b[0m                         Traceback (most recent call last)",
      "Cell \u001b[0;32mIn[61], line 12\u001b[0m\n\u001b[1;32m     10\u001b[0m model14\u001b[38;5;241m.\u001b[39mcompile(optimizer\u001b[38;5;241m=\u001b[39m\u001b[38;5;124m'\u001b[39m\u001b[38;5;124madam\u001b[39m\u001b[38;5;124m'\u001b[39m,loss\u001b[38;5;241m=\u001b[39m\u001b[38;5;124m'\u001b[39m\u001b[38;5;124mbinary_crossentropy\u001b[39m\u001b[38;5;124m'\u001b[39m, metrics\u001b[38;5;241m=\u001b[39m[\u001b[38;5;124m'\u001b[39m\u001b[38;5;124maccuracy\u001b[39m\u001b[38;5;124m'\u001b[39m])\n\u001b[1;32m     11\u001b[0m checkpoint14 \u001b[38;5;241m=\u001b[39m ModelCheckpoint(\u001b[38;5;124m\"\u001b[39m\u001b[38;5;124mbest_model1.hdf5\u001b[39m\u001b[38;5;124m\"\u001b[39m, monitor\u001b[38;5;241m=\u001b[39m\u001b[38;5;124m'\u001b[39m\u001b[38;5;124mval_loss\u001b[39m\u001b[38;5;124m'\u001b[39m, verbose\u001b[38;5;241m=\u001b[39m\u001b[38;5;241m0\u001b[39m,save_best_only\u001b[38;5;241m=\u001b[39m\u001b[38;5;28;01mTrue\u001b[39;00m, mode\u001b[38;5;241m=\u001b[39m\u001b[38;5;124m'\u001b[39m\u001b[38;5;124mauto\u001b[39m\u001b[38;5;124m'\u001b[39m, save_freq\u001b[38;5;241m=\u001b[39m\u001b[38;5;124m\"\u001b[39m\u001b[38;5;124mepoch\u001b[39m\u001b[38;5;124m\"\u001b[39m,save_weights_only\u001b[38;5;241m=\u001b[39m\u001b[38;5;28;01mFalse\u001b[39;00m)\n\u001b[0;32m---> 12\u001b[0m history14 \u001b[38;5;241m=\u001b[39m \u001b[43mmodel14\u001b[49m\u001b[38;5;241;43m.\u001b[39;49m\u001b[43mfit\u001b[49m\u001b[43m(\u001b[49m\u001b[43mX_train_sequences\u001b[49m\u001b[43m,\u001b[49m\u001b[43m \u001b[49m\u001b[43mY_train_array\u001b[49m\u001b[43m,\u001b[49m\u001b[43m \u001b[49m\u001b[43mepochs\u001b[49m\u001b[38;5;241;43m=\u001b[39;49m\u001b[38;5;241;43m5\u001b[39;49m\u001b[43m,\u001b[49m\u001b[43mvalidation_data\u001b[49m\u001b[38;5;241;43m=\u001b[39;49m\u001b[43m(\u001b[49m\u001b[43mX_valid_sequences\u001b[49m\u001b[43m,\u001b[49m\u001b[43m \u001b[49m\u001b[43mY_valid_array\u001b[49m\u001b[43m)\u001b[49m\u001b[43m,\u001b[49m\u001b[43mbatch_size\u001b[49m\u001b[38;5;241;43m=\u001b[39;49m\u001b[38;5;241;43m64\u001b[39;49m\u001b[43m,\u001b[49m\u001b[43mverbose\u001b[49m\u001b[43m \u001b[49m\u001b[38;5;241;43m=\u001b[39;49m\u001b[43m \u001b[49m\u001b[38;5;241;43m1\u001b[39;49m\u001b[43m,\u001b[49m\u001b[43mcallbacks\u001b[49m\u001b[38;5;241;43m=\u001b[39;49m\u001b[43m[\u001b[49m\u001b[43mcheckpoint14\u001b[49m\u001b[43m]\u001b[49m\u001b[43m)\u001b[49m\n",
      "File \u001b[0;32m~/anaconda3/envs/py4sci/lib/python3.10/site-packages/keras/utils/traceback_utils.py:65\u001b[0m, in \u001b[0;36mfilter_traceback.<locals>.error_handler\u001b[0;34m(*args, **kwargs)\u001b[0m\n\u001b[1;32m     63\u001b[0m filtered_tb \u001b[38;5;241m=\u001b[39m \u001b[38;5;28;01mNone\u001b[39;00m\n\u001b[1;32m     64\u001b[0m \u001b[38;5;28;01mtry\u001b[39;00m:\n\u001b[0;32m---> 65\u001b[0m     \u001b[38;5;28;01mreturn\u001b[39;00m \u001b[43mfn\u001b[49m\u001b[43m(\u001b[49m\u001b[38;5;241;43m*\u001b[39;49m\u001b[43margs\u001b[49m\u001b[43m,\u001b[49m\u001b[43m \u001b[49m\u001b[38;5;241;43m*\u001b[39;49m\u001b[38;5;241;43m*\u001b[39;49m\u001b[43mkwargs\u001b[49m\u001b[43m)\u001b[49m\n\u001b[1;32m     66\u001b[0m \u001b[38;5;28;01mexcept\u001b[39;00m \u001b[38;5;167;01mException\u001b[39;00m \u001b[38;5;28;01mas\u001b[39;00m e:\n\u001b[1;32m     67\u001b[0m     filtered_tb \u001b[38;5;241m=\u001b[39m _process_traceback_frames(e\u001b[38;5;241m.\u001b[39m__traceback__)\n",
      "File \u001b[0;32m~/anaconda3/envs/py4sci/lib/python3.10/site-packages/keras/engine/training.py:1564\u001b[0m, in \u001b[0;36mModel.fit\u001b[0;34m(self, x, y, batch_size, epochs, verbose, callbacks, validation_split, validation_data, shuffle, class_weight, sample_weight, initial_epoch, steps_per_epoch, validation_steps, validation_batch_size, validation_freq, max_queue_size, workers, use_multiprocessing)\u001b[0m\n\u001b[1;32m   1556\u001b[0m \u001b[38;5;28;01mwith\u001b[39;00m tf\u001b[38;5;241m.\u001b[39mprofiler\u001b[38;5;241m.\u001b[39mexperimental\u001b[38;5;241m.\u001b[39mTrace(\n\u001b[1;32m   1557\u001b[0m     \u001b[38;5;124m\"\u001b[39m\u001b[38;5;124mtrain\u001b[39m\u001b[38;5;124m\"\u001b[39m,\n\u001b[1;32m   1558\u001b[0m     epoch_num\u001b[38;5;241m=\u001b[39mepoch,\n\u001b[0;32m   (...)\u001b[0m\n\u001b[1;32m   1561\u001b[0m     _r\u001b[38;5;241m=\u001b[39m\u001b[38;5;241m1\u001b[39m,\n\u001b[1;32m   1562\u001b[0m ):\n\u001b[1;32m   1563\u001b[0m     callbacks\u001b[38;5;241m.\u001b[39mon_train_batch_begin(step)\n\u001b[0;32m-> 1564\u001b[0m     tmp_logs \u001b[38;5;241m=\u001b[39m \u001b[38;5;28;43mself\u001b[39;49m\u001b[38;5;241;43m.\u001b[39;49m\u001b[43mtrain_function\u001b[49m\u001b[43m(\u001b[49m\u001b[43miterator\u001b[49m\u001b[43m)\u001b[49m\n\u001b[1;32m   1565\u001b[0m     \u001b[38;5;28;01mif\u001b[39;00m data_handler\u001b[38;5;241m.\u001b[39mshould_sync:\n\u001b[1;32m   1566\u001b[0m         context\u001b[38;5;241m.\u001b[39masync_wait()\n",
      "File \u001b[0;32m~/anaconda3/envs/py4sci/lib/python3.10/site-packages/tensorflow/python/util/traceback_utils.py:150\u001b[0m, in \u001b[0;36mfilter_traceback.<locals>.error_handler\u001b[0;34m(*args, **kwargs)\u001b[0m\n\u001b[1;32m    148\u001b[0m filtered_tb \u001b[38;5;241m=\u001b[39m \u001b[38;5;28;01mNone\u001b[39;00m\n\u001b[1;32m    149\u001b[0m \u001b[38;5;28;01mtry\u001b[39;00m:\n\u001b[0;32m--> 150\u001b[0m   \u001b[38;5;28;01mreturn\u001b[39;00m \u001b[43mfn\u001b[49m\u001b[43m(\u001b[49m\u001b[38;5;241;43m*\u001b[39;49m\u001b[43margs\u001b[49m\u001b[43m,\u001b[49m\u001b[43m \u001b[49m\u001b[38;5;241;43m*\u001b[39;49m\u001b[38;5;241;43m*\u001b[39;49m\u001b[43mkwargs\u001b[49m\u001b[43m)\u001b[49m\n\u001b[1;32m    151\u001b[0m \u001b[38;5;28;01mexcept\u001b[39;00m \u001b[38;5;167;01mException\u001b[39;00m \u001b[38;5;28;01mas\u001b[39;00m e:\n\u001b[1;32m    152\u001b[0m   filtered_tb \u001b[38;5;241m=\u001b[39m _process_traceback_frames(e\u001b[38;5;241m.\u001b[39m__traceback__)\n",
      "File \u001b[0;32m~/anaconda3/envs/py4sci/lib/python3.10/site-packages/tensorflow/python/eager/def_function.py:915\u001b[0m, in \u001b[0;36mFunction.__call__\u001b[0;34m(self, *args, **kwds)\u001b[0m\n\u001b[1;32m    912\u001b[0m compiler \u001b[38;5;241m=\u001b[39m \u001b[38;5;124m\"\u001b[39m\u001b[38;5;124mxla\u001b[39m\u001b[38;5;124m\"\u001b[39m \u001b[38;5;28;01mif\u001b[39;00m \u001b[38;5;28mself\u001b[39m\u001b[38;5;241m.\u001b[39m_jit_compile \u001b[38;5;28;01melse\u001b[39;00m \u001b[38;5;124m\"\u001b[39m\u001b[38;5;124mnonXla\u001b[39m\u001b[38;5;124m\"\u001b[39m\n\u001b[1;32m    914\u001b[0m \u001b[38;5;28;01mwith\u001b[39;00m OptionalXlaContext(\u001b[38;5;28mself\u001b[39m\u001b[38;5;241m.\u001b[39m_jit_compile):\n\u001b[0;32m--> 915\u001b[0m   result \u001b[38;5;241m=\u001b[39m \u001b[38;5;28;43mself\u001b[39;49m\u001b[38;5;241;43m.\u001b[39;49m\u001b[43m_call\u001b[49m\u001b[43m(\u001b[49m\u001b[38;5;241;43m*\u001b[39;49m\u001b[43margs\u001b[49m\u001b[43m,\u001b[49m\u001b[43m \u001b[49m\u001b[38;5;241;43m*\u001b[39;49m\u001b[38;5;241;43m*\u001b[39;49m\u001b[43mkwds\u001b[49m\u001b[43m)\u001b[49m\n\u001b[1;32m    917\u001b[0m new_tracing_count \u001b[38;5;241m=\u001b[39m \u001b[38;5;28mself\u001b[39m\u001b[38;5;241m.\u001b[39mexperimental_get_tracing_count()\n\u001b[1;32m    918\u001b[0m without_tracing \u001b[38;5;241m=\u001b[39m (tracing_count \u001b[38;5;241m==\u001b[39m new_tracing_count)\n",
      "File \u001b[0;32m~/anaconda3/envs/py4sci/lib/python3.10/site-packages/tensorflow/python/eager/def_function.py:947\u001b[0m, in \u001b[0;36mFunction._call\u001b[0;34m(self, *args, **kwds)\u001b[0m\n\u001b[1;32m    944\u001b[0m   \u001b[38;5;28mself\u001b[39m\u001b[38;5;241m.\u001b[39m_lock\u001b[38;5;241m.\u001b[39mrelease()\n\u001b[1;32m    945\u001b[0m   \u001b[38;5;66;03m# In this case we have created variables on the first call, so we run the\u001b[39;00m\n\u001b[1;32m    946\u001b[0m   \u001b[38;5;66;03m# defunned version which is guaranteed to never create variables.\u001b[39;00m\n\u001b[0;32m--> 947\u001b[0m   \u001b[38;5;28;01mreturn\u001b[39;00m \u001b[38;5;28;43mself\u001b[39;49m\u001b[38;5;241;43m.\u001b[39;49m\u001b[43m_stateless_fn\u001b[49m\u001b[43m(\u001b[49m\u001b[38;5;241;43m*\u001b[39;49m\u001b[43margs\u001b[49m\u001b[43m,\u001b[49m\u001b[43m \u001b[49m\u001b[38;5;241;43m*\u001b[39;49m\u001b[38;5;241;43m*\u001b[39;49m\u001b[43mkwds\u001b[49m\u001b[43m)\u001b[49m  \u001b[38;5;66;03m# pylint: disable=not-callable\u001b[39;00m\n\u001b[1;32m    948\u001b[0m \u001b[38;5;28;01melif\u001b[39;00m \u001b[38;5;28mself\u001b[39m\u001b[38;5;241m.\u001b[39m_stateful_fn \u001b[38;5;129;01mis\u001b[39;00m \u001b[38;5;129;01mnot\u001b[39;00m \u001b[38;5;28;01mNone\u001b[39;00m:\n\u001b[1;32m    949\u001b[0m   \u001b[38;5;66;03m# Release the lock early so that multiple threads can perform the call\u001b[39;00m\n\u001b[1;32m    950\u001b[0m   \u001b[38;5;66;03m# in parallel.\u001b[39;00m\n\u001b[1;32m    951\u001b[0m   \u001b[38;5;28mself\u001b[39m\u001b[38;5;241m.\u001b[39m_lock\u001b[38;5;241m.\u001b[39mrelease()\n",
      "File \u001b[0;32m~/anaconda3/envs/py4sci/lib/python3.10/site-packages/tensorflow/python/eager/function.py:2496\u001b[0m, in \u001b[0;36mFunction.__call__\u001b[0;34m(self, *args, **kwargs)\u001b[0m\n\u001b[1;32m   2493\u001b[0m \u001b[38;5;28;01mwith\u001b[39;00m \u001b[38;5;28mself\u001b[39m\u001b[38;5;241m.\u001b[39m_lock:\n\u001b[1;32m   2494\u001b[0m   (graph_function,\n\u001b[1;32m   2495\u001b[0m    filtered_flat_args) \u001b[38;5;241m=\u001b[39m \u001b[38;5;28mself\u001b[39m\u001b[38;5;241m.\u001b[39m_maybe_define_function(args, kwargs)\n\u001b[0;32m-> 2496\u001b[0m \u001b[38;5;28;01mreturn\u001b[39;00m \u001b[43mgraph_function\u001b[49m\u001b[38;5;241;43m.\u001b[39;49m\u001b[43m_call_flat\u001b[49m\u001b[43m(\u001b[49m\n\u001b[1;32m   2497\u001b[0m \u001b[43m    \u001b[49m\u001b[43mfiltered_flat_args\u001b[49m\u001b[43m,\u001b[49m\u001b[43m \u001b[49m\u001b[43mcaptured_inputs\u001b[49m\u001b[38;5;241;43m=\u001b[39;49m\u001b[43mgraph_function\u001b[49m\u001b[38;5;241;43m.\u001b[39;49m\u001b[43mcaptured_inputs\u001b[49m\u001b[43m)\u001b[49m\n",
      "File \u001b[0;32m~/anaconda3/envs/py4sci/lib/python3.10/site-packages/tensorflow/python/eager/function.py:1862\u001b[0m, in \u001b[0;36mConcreteFunction._call_flat\u001b[0;34m(self, args, captured_inputs, cancellation_manager)\u001b[0m\n\u001b[1;32m   1858\u001b[0m possible_gradient_type \u001b[38;5;241m=\u001b[39m gradients_util\u001b[38;5;241m.\u001b[39mPossibleTapeGradientTypes(args)\n\u001b[1;32m   1859\u001b[0m \u001b[38;5;28;01mif\u001b[39;00m (possible_gradient_type \u001b[38;5;241m==\u001b[39m gradients_util\u001b[38;5;241m.\u001b[39mPOSSIBLE_GRADIENT_TYPES_NONE\n\u001b[1;32m   1860\u001b[0m     \u001b[38;5;129;01mand\u001b[39;00m executing_eagerly):\n\u001b[1;32m   1861\u001b[0m   \u001b[38;5;66;03m# No tape is watching; skip to running the function.\u001b[39;00m\n\u001b[0;32m-> 1862\u001b[0m   \u001b[38;5;28;01mreturn\u001b[39;00m \u001b[38;5;28mself\u001b[39m\u001b[38;5;241m.\u001b[39m_build_call_outputs(\u001b[38;5;28;43mself\u001b[39;49m\u001b[38;5;241;43m.\u001b[39;49m\u001b[43m_inference_function\u001b[49m\u001b[38;5;241;43m.\u001b[39;49m\u001b[43mcall\u001b[49m\u001b[43m(\u001b[49m\n\u001b[1;32m   1863\u001b[0m \u001b[43m      \u001b[49m\u001b[43mctx\u001b[49m\u001b[43m,\u001b[49m\u001b[43m \u001b[49m\u001b[43margs\u001b[49m\u001b[43m,\u001b[49m\u001b[43m \u001b[49m\u001b[43mcancellation_manager\u001b[49m\u001b[38;5;241;43m=\u001b[39;49m\u001b[43mcancellation_manager\u001b[49m\u001b[43m)\u001b[49m)\n\u001b[1;32m   1864\u001b[0m forward_backward \u001b[38;5;241m=\u001b[39m \u001b[38;5;28mself\u001b[39m\u001b[38;5;241m.\u001b[39m_select_forward_and_backward_functions(\n\u001b[1;32m   1865\u001b[0m     args,\n\u001b[1;32m   1866\u001b[0m     possible_gradient_type,\n\u001b[1;32m   1867\u001b[0m     executing_eagerly)\n\u001b[1;32m   1868\u001b[0m forward_function, args_with_tangents \u001b[38;5;241m=\u001b[39m forward_backward\u001b[38;5;241m.\u001b[39mforward()\n",
      "File \u001b[0;32m~/anaconda3/envs/py4sci/lib/python3.10/site-packages/tensorflow/python/eager/function.py:499\u001b[0m, in \u001b[0;36m_EagerDefinedFunction.call\u001b[0;34m(self, ctx, args, cancellation_manager)\u001b[0m\n\u001b[1;32m    497\u001b[0m \u001b[38;5;28;01mwith\u001b[39;00m _InterpolateFunctionError(\u001b[38;5;28mself\u001b[39m):\n\u001b[1;32m    498\u001b[0m   \u001b[38;5;28;01mif\u001b[39;00m cancellation_manager \u001b[38;5;129;01mis\u001b[39;00m \u001b[38;5;28;01mNone\u001b[39;00m:\n\u001b[0;32m--> 499\u001b[0m     outputs \u001b[38;5;241m=\u001b[39m \u001b[43mexecute\u001b[49m\u001b[38;5;241;43m.\u001b[39;49m\u001b[43mexecute\u001b[49m\u001b[43m(\u001b[49m\n\u001b[1;32m    500\u001b[0m \u001b[43m        \u001b[49m\u001b[38;5;28;43mstr\u001b[39;49m\u001b[43m(\u001b[49m\u001b[38;5;28;43mself\u001b[39;49m\u001b[38;5;241;43m.\u001b[39;49m\u001b[43msignature\u001b[49m\u001b[38;5;241;43m.\u001b[39;49m\u001b[43mname\u001b[49m\u001b[43m)\u001b[49m\u001b[43m,\u001b[49m\n\u001b[1;32m    501\u001b[0m \u001b[43m        \u001b[49m\u001b[43mnum_outputs\u001b[49m\u001b[38;5;241;43m=\u001b[39;49m\u001b[38;5;28;43mself\u001b[39;49m\u001b[38;5;241;43m.\u001b[39;49m\u001b[43m_num_outputs\u001b[49m\u001b[43m,\u001b[49m\n\u001b[1;32m    502\u001b[0m \u001b[43m        \u001b[49m\u001b[43minputs\u001b[49m\u001b[38;5;241;43m=\u001b[39;49m\u001b[43margs\u001b[49m\u001b[43m,\u001b[49m\n\u001b[1;32m    503\u001b[0m \u001b[43m        \u001b[49m\u001b[43mattrs\u001b[49m\u001b[38;5;241;43m=\u001b[39;49m\u001b[43mattrs\u001b[49m\u001b[43m,\u001b[49m\n\u001b[1;32m    504\u001b[0m \u001b[43m        \u001b[49m\u001b[43mctx\u001b[49m\u001b[38;5;241;43m=\u001b[39;49m\u001b[43mctx\u001b[49m\u001b[43m)\u001b[49m\n\u001b[1;32m    505\u001b[0m   \u001b[38;5;28;01melse\u001b[39;00m:\n\u001b[1;32m    506\u001b[0m     outputs \u001b[38;5;241m=\u001b[39m execute\u001b[38;5;241m.\u001b[39mexecute_with_cancellation(\n\u001b[1;32m    507\u001b[0m         \u001b[38;5;28mstr\u001b[39m(\u001b[38;5;28mself\u001b[39m\u001b[38;5;241m.\u001b[39msignature\u001b[38;5;241m.\u001b[39mname),\n\u001b[1;32m    508\u001b[0m         num_outputs\u001b[38;5;241m=\u001b[39m\u001b[38;5;28mself\u001b[39m\u001b[38;5;241m.\u001b[39m_num_outputs,\n\u001b[0;32m   (...)\u001b[0m\n\u001b[1;32m    511\u001b[0m         ctx\u001b[38;5;241m=\u001b[39mctx,\n\u001b[1;32m    512\u001b[0m         cancellation_manager\u001b[38;5;241m=\u001b[39mcancellation_manager)\n",
      "File \u001b[0;32m~/anaconda3/envs/py4sci/lib/python3.10/site-packages/tensorflow/python/eager/execute.py:54\u001b[0m, in \u001b[0;36mquick_execute\u001b[0;34m(op_name, num_outputs, inputs, attrs, ctx, name)\u001b[0m\n\u001b[1;32m     52\u001b[0m \u001b[38;5;28;01mtry\u001b[39;00m:\n\u001b[1;32m     53\u001b[0m   ctx\u001b[38;5;241m.\u001b[39mensure_initialized()\n\u001b[0;32m---> 54\u001b[0m   tensors \u001b[38;5;241m=\u001b[39m \u001b[43mpywrap_tfe\u001b[49m\u001b[38;5;241;43m.\u001b[39;49m\u001b[43mTFE_Py_Execute\u001b[49m\u001b[43m(\u001b[49m\u001b[43mctx\u001b[49m\u001b[38;5;241;43m.\u001b[39;49m\u001b[43m_handle\u001b[49m\u001b[43m,\u001b[49m\u001b[43m \u001b[49m\u001b[43mdevice_name\u001b[49m\u001b[43m,\u001b[49m\u001b[43m \u001b[49m\u001b[43mop_name\u001b[49m\u001b[43m,\u001b[49m\n\u001b[1;32m     55\u001b[0m \u001b[43m                                      \u001b[49m\u001b[43minputs\u001b[49m\u001b[43m,\u001b[49m\u001b[43m \u001b[49m\u001b[43mattrs\u001b[49m\u001b[43m,\u001b[49m\u001b[43m \u001b[49m\u001b[43mnum_outputs\u001b[49m\u001b[43m)\u001b[49m\n\u001b[1;32m     56\u001b[0m \u001b[38;5;28;01mexcept\u001b[39;00m core\u001b[38;5;241m.\u001b[39m_NotOkStatusException \u001b[38;5;28;01mas\u001b[39;00m e:\n\u001b[1;32m     57\u001b[0m   \u001b[38;5;28;01mif\u001b[39;00m name \u001b[38;5;129;01mis\u001b[39;00m \u001b[38;5;129;01mnot\u001b[39;00m \u001b[38;5;28;01mNone\u001b[39;00m:\n",
      "\u001b[0;31mKeyboardInterrupt\u001b[0m: "
     ]
    }
   ],
   "source": [
    "regularizer = tf.keras.regularizers.L1(l1=0.01)\n",
    "model14 = Sequential()\n",
    "model14.add(layers.Embedding(max_words, 500)) #The embedding layer\n",
    "model14.add(layers.Dense(200,activation='sigmoid'))\n",
    "model14.add(layers.SimpleRNN(100,return_sequences=True,dropout=0.1,kernel_regularizer=regularizer))\n",
    "model14.add(layers.Dense(100,activation='sigmoid'))\n",
    "model14.add(layers.Dense(20,activation='sigmoid'))\n",
    "model14.add(layers.SimpleRNN(20,dropout=0.2,kernel_regularizer=regularizer))\n",
    "model14.add(layers.Dense(1,activation='sigmoid'))\n",
    "model14.compile(optimizer='adam',loss='binary_crossentropy', metrics=['accuracy'])\n",
    "checkpoint14 = ModelCheckpoint(\"best_model1.hdf5\", monitor='val_loss', verbose=0,save_best_only=True, mode='auto', save_freq=\"epoch\",save_weights_only=False)\n",
    "history14 = model14.fit(X_train_sequences, Y_train_array, epochs=5,validation_data=(X_valid_sequences, Y_valid_array),batch_size=64,verbose = 1,callbacks=[checkpoint14])"
   ]
  },
  {
   "cell_type": "markdown",
   "id": "4697482d-52dc-4be6-a7a8-edb54ec42240",
   "metadata": {},
   "source": [
    "### L1 regularizer at 0.05 and dropout at 0.4, best val_acc at epoch 1 at 0.56"
   ]
  },
  {
   "cell_type": "code",
   "execution_count": 63,
   "id": "06b17c86-e30c-4d50-b719-49338295cfee",
   "metadata": {},
   "outputs": [
    {
     "name": "stdout",
     "output_type": "stream",
     "text": [
      "Epoch 1/5\n",
      "625/625 [==============================] - 348s 554ms/step - loss: 1.4482 - accuracy: 0.5803 - val_loss: 0.7546 - val_accuracy: 0.5598\n",
      "Epoch 2/5\n",
      "625/625 [==============================] - 356s 569ms/step - loss: 0.5893 - accuracy: 0.7351 - val_loss: 0.8690 - val_accuracy: 0.5374\n",
      "Epoch 3/5\n",
      "625/625 [==============================] - 354s 566ms/step - loss: 0.5257 - accuracy: 0.7780 - val_loss: 0.8494 - val_accuracy: 0.5510\n",
      "Epoch 4/5\n",
      "625/625 [==============================] - 356s 570ms/step - loss: 0.5035 - accuracy: 0.7926 - val_loss: 0.9131 - val_accuracy: 0.5152\n",
      "Epoch 5/5\n",
      "625/625 [==============================] - 357s 570ms/step - loss: 0.4751 - accuracy: 0.8049 - val_loss: 0.8478 - val_accuracy: 0.4962\n"
     ]
    }
   ],
   "source": [
    "regularizer = tf.keras.regularizers.L1(l1=0.05)\n",
    "model8 = Sequential()\n",
    "model8.add(layers.Embedding(max_words, 500)) #The embedding layer\n",
    "model8.add(layers.Dense(200,activation='sigmoid'))\n",
    "model8.add(layers.Dense(100,activation='sigmoid'))\n",
    "model8.add(layers.Dense(20,activation='sigmoid'))\n",
    "model8.add(layers.SimpleRNN(20,dropout=0.4, kernel_regularizer=regularizer))\n",
    "model8.add(layers.Dense(1,activation='sigmoid'))\n",
    "model8.compile(optimizer='rmsprop',loss='binary_crossentropy', metrics=['accuracy'])\n",
    "checkpoint8 = ModelCheckpoint(\"best_model1.hdf5\", monitor='val_loss', verbose=0,save_best_only=True, mode='auto', save_freq=\"epoch\",save_weights_only=False)\n",
    "history8 = model8.fit(X_train_sequences, Y_train_array, epochs=5,validation_data=(X_valid_sequences, Y_valid_array),batch_size=64,verbose = 1,callbacks=[checkpoint8])"
   ]
  },
  {
   "cell_type": "markdown",
   "id": "f3e40ac7-e7fd-49ae-9e81-85cd01b97a45",
   "metadata": {},
   "source": [
    "### Running the best model, L1 Regularizer at 0.05 and dropout at 0.3, for 30 epochs! Did not see any increase in val_acc over time and actually performed worse after 2 epochs"
   ]
  },
  {
   "cell_type": "code",
   "execution_count": 64,
   "id": "20748cbe-bfc1-46da-81a2-95a6261e9a18",
   "metadata": {},
   "outputs": [
    {
     "name": "stdout",
     "output_type": "stream",
     "text": [
      "Epoch 1/30\n",
      "625/625 [==============================] - 327s 521ms/step - loss: 1.4432 - accuracy: 0.6268 - val_loss: 0.8666 - val_accuracy: 0.5202\n",
      "Epoch 2/30\n",
      "625/625 [==============================] - 328s 524ms/step - loss: 0.5794 - accuracy: 0.7538 - val_loss: 0.8241 - val_accuracy: 0.5506\n",
      "Epoch 3/30\n",
      "625/625 [==============================] - 345s 552ms/step - loss: 0.5393 - accuracy: 0.7771 - val_loss: 0.8896 - val_accuracy: 0.5368\n",
      "Epoch 4/30\n",
      "625/625 [==============================] - 330s 527ms/step - loss: 0.5069 - accuracy: 0.7925 - val_loss: 0.8583 - val_accuracy: 0.5250\n",
      "Epoch 5/30\n",
      "625/625 [==============================] - 331s 530ms/step - loss: 0.4796 - accuracy: 0.8091 - val_loss: 0.9827 - val_accuracy: 0.5160\n",
      "Epoch 6/30\n",
      "625/625 [==============================] - 327s 523ms/step - loss: 0.4714 - accuracy: 0.8113 - val_loss: 1.0099 - val_accuracy: 0.5118\n",
      "Epoch 7/30\n",
      "625/625 [==============================] - 360s 575ms/step - loss: 0.4561 - accuracy: 0.8207 - val_loss: 0.8552 - val_accuracy: 0.5004\n",
      "Epoch 8/30\n",
      "625/625 [==============================] - 349s 558ms/step - loss: 0.4413 - accuracy: 0.8255 - val_loss: 0.9059 - val_accuracy: 0.5022\n",
      "Epoch 9/30\n",
      "625/625 [==============================] - 358s 571ms/step - loss: 0.4320 - accuracy: 0.8317 - val_loss: 1.0328 - val_accuracy: 0.5046\n",
      "Epoch 10/30\n",
      "625/625 [==============================] - 340s 544ms/step - loss: 0.4370 - accuracy: 0.8291 - val_loss: 1.1579 - val_accuracy: 0.4976\n",
      "Epoch 11/30\n",
      "625/625 [==============================] - 344s 550ms/step - loss: 0.4206 - accuracy: 0.8362 - val_loss: 0.9085 - val_accuracy: 0.5042\n",
      "Epoch 12/30\n",
      "625/625 [==============================] - 420s 671ms/step - loss: 0.4198 - accuracy: 0.8365 - val_loss: 0.9415 - val_accuracy: 0.5084\n",
      "Epoch 13/30\n",
      "625/625 [==============================] - 538s 861ms/step - loss: 0.4154 - accuracy: 0.8396 - val_loss: 1.1309 - val_accuracy: 0.5080\n",
      "Epoch 14/30\n",
      "625/625 [==============================] - 544s 870ms/step - loss: 0.4168 - accuracy: 0.8392 - val_loss: 1.0730 - val_accuracy: 0.5102\n",
      "Epoch 15/30\n",
      "625/625 [==============================] - 539s 862ms/step - loss: 0.4075 - accuracy: 0.8432 - val_loss: 0.9210 - val_accuracy: 0.5158\n",
      "Epoch 16/30\n",
      "625/625 [==============================] - 551s 881ms/step - loss: 0.4068 - accuracy: 0.8428 - val_loss: 0.9669 - val_accuracy: 0.5088\n",
      "Epoch 17/30\n",
      "625/625 [==============================] - 551s 881ms/step - loss: 0.4076 - accuracy: 0.8430 - val_loss: 0.9956 - val_accuracy: 0.5096\n",
      "Epoch 18/30\n",
      "625/625 [==============================] - 564s 903ms/step - loss: 0.3985 - accuracy: 0.8462 - val_loss: 0.8912 - val_accuracy: 0.5082\n",
      "Epoch 19/30\n",
      "625/625 [==============================] - 570s 912ms/step - loss: 0.4023 - accuracy: 0.8456 - val_loss: 0.9463 - val_accuracy: 0.5048\n",
      "Epoch 20/30\n",
      "625/625 [==============================] - 559s 894ms/step - loss: 0.4023 - accuracy: 0.8447 - val_loss: 1.0798 - val_accuracy: 0.5086\n",
      "Epoch 21/30\n",
      "625/625 [==============================] - 568s 908ms/step - loss: 0.3936 - accuracy: 0.8492 - val_loss: 1.0496 - val_accuracy: 0.5078\n",
      "Epoch 22/30\n",
      "625/625 [==============================] - 557s 891ms/step - loss: 0.4082 - accuracy: 0.8434 - val_loss: 0.9493 - val_accuracy: 0.5028\n",
      "Epoch 23/30\n",
      "625/625 [==============================] - 558s 892ms/step - loss: 0.3943 - accuracy: 0.8481 - val_loss: 1.1542 - val_accuracy: 0.5032\n",
      "Epoch 24/30\n",
      "625/625 [==============================] - 551s 882ms/step - loss: 0.3945 - accuracy: 0.8490 - val_loss: 1.0254 - val_accuracy: 0.5092\n",
      "Epoch 25/30\n",
      "625/625 [==============================] - 565s 904ms/step - loss: 0.4013 - accuracy: 0.8483 - val_loss: 0.9831 - val_accuracy: 0.5116\n",
      "Epoch 26/30\n",
      "625/625 [==============================] - 513s 821ms/step - loss: 0.3963 - accuracy: 0.8489 - val_loss: 0.8669 - val_accuracy: 0.4946\n",
      "Epoch 27/30\n",
      "625/625 [==============================] - 355s 567ms/step - loss: 0.3947 - accuracy: 0.8479 - val_loss: 0.9385 - val_accuracy: 0.5016\n",
      "Epoch 28/30\n",
      "625/625 [==============================] - 826s 1s/step - loss: 0.4022 - accuracy: 0.8464 - val_loss: 0.9421 - val_accuracy: 0.5072\n",
      "Epoch 29/30\n",
      "625/625 [==============================] - 347s 555ms/step - loss: 0.3926 - accuracy: 0.8475 - val_loss: 0.9561 - val_accuracy: 0.4932\n",
      "Epoch 30/30\n",
      "625/625 [==============================] - 354s 566ms/step - loss: 0.4426 - accuracy: 0.8388 - val_loss: 1.0066 - val_accuracy: 0.4992\n"
     ]
    }
   ],
   "source": [
    "regularizer = tf.keras.regularizers.L1(l1=0.05)\n",
    "model15 = Sequential()\n",
    "model15.add(layers.Embedding(max_words, 500)) #The embedding layer\n",
    "model15.add(layers.Dense(200,activation='sigmoid'))\n",
    "model15.add(layers.Dense(100,activation='sigmoid'))\n",
    "model15.add(layers.Dense(20,activation='sigmoid'))\n",
    "model15.add(layers.SimpleRNN(20,dropout=0.3, kernel_regularizer=regularizer))\n",
    "model15.add(layers.Dense(1,activation='sigmoid'))\n",
    "model15.compile(optimizer='rmsprop',loss='binary_crossentropy', metrics=['accuracy'])\n",
    "checkpoint15 = ModelCheckpoint(\"best_model1.hdf5\", monitor='val_loss', verbose=0,save_best_only=True, mode='auto', save_freq=\"epoch\",save_weights_only=False)\n",
    "history15 = model15.fit(X_train_sequences, Y_train_array, epochs=30,validation_data=(X_valid_sequences, Y_valid_array),batch_size=64,verbose = 1,callbacks=[checkpoint15])"
   ]
  },
  {
   "cell_type": "markdown",
   "id": "65e7c6a4-5fe9-4349-8c1f-86d1a4dcfb02",
   "metadata": {},
   "source": [
    "### Running the best model for 2 epochs, using EarlyStopping to make sure it stops quickly before the overfitting becomes very bad, however, first epoch is still significantly better than the second."
   ]
  },
  {
   "cell_type": "code",
   "execution_count": 30,
   "id": "22c98669-fa0c-4360-a32a-e2dacb420909",
   "metadata": {},
   "outputs": [
    {
     "name": "stdout",
     "output_type": "stream",
     "text": [
      "Epoch 1/5\n",
      "625/625 [==============================] - 376s 598ms/step - loss: 1.5378 - accuracy: 0.6072 - val_loss: 0.7892 - val_accuracy: 0.5594\n",
      "Epoch 2/5\n",
      "625/625 [==============================] - 362s 578ms/step - loss: 0.5947 - accuracy: 0.7380 - val_loss: 0.8632 - val_accuracy: 0.5166\n"
     ]
    }
   ],
   "source": [
    "regularizer = tf.keras.regularizers.L1(l1=0.05)\n",
    "model8 = Sequential()\n",
    "model8.add(layers.Embedding(max_words, 500)) #The embedding layer\n",
    "model8.add(layers.Dense(200,activation='sigmoid'))\n",
    "model8.add(layers.Dense(100,activation='sigmoid'))\n",
    "model8.add(layers.Dense(20,activation='sigmoid'))\n",
    "model8.add(layers.SimpleRNN(20,dropout=0.3, kernel_regularizer=regularizer))\n",
    "model8.add(layers.Dense(1,activation='sigmoid'))\n",
    "model8.compile(optimizer='rmsprop',loss='binary_crossentropy', metrics=['accuracy'])\n",
    "checkpoint8 = ModelCheckpoint(\"best_model1.hdf5\", monitor='val_loss', verbose=0,save_best_only=True, mode='auto', save_freq=\"epoch\",save_weights_only=False)\n",
    "earlystop8 = EarlyStopping(monitor='val_loss', verbose=0, min_delta=0.01, baseline=0.55)\n",
    "history8 = model8.fit(X_train_sequences, Y_train_array, epochs=5,validation_data=(X_valid_sequences, Y_valid_array),batch_size=64,verbose = 1,callbacks=[checkpoint8,earlystop8])"
   ]
  },
  {
   "cell_type": "markdown",
   "id": "ae185c40-d0d1-48c5-aea1-41d3e94e88b1",
   "metadata": {},
   "source": [
    "### Ran the model for just 1 epoch to get the best possible val_acc and to reduce overfitting!!"
   ]
  },
  {
   "cell_type": "code",
   "execution_count": 33,
   "id": "6efeb400-4318-46ff-a0ac-b222d2dfdacb",
   "metadata": {},
   "outputs": [
    {
     "name": "stdout",
     "output_type": "stream",
     "text": [
      "625/625 [==============================] - 388s 617ms/step - loss: 1.4344 - accuracy: 0.6038 - val_loss: 0.7515 - val_accuracy: 0.5638\n"
     ]
    }
   ],
   "source": [
    "regularizer = tf.keras.regularizers.L1(l1=0.05)\n",
    "model16 = Sequential()\n",
    "model16.add(layers.Embedding(max_words, 500)) #The embedding layer\n",
    "model16.add(layers.Dense(200,activation='sigmoid'))\n",
    "model16.add(layers.Dense(100,activation='sigmoid'))\n",
    "model16.add(layers.Dense(20,activation='sigmoid'))\n",
    "model16.add(layers.SimpleRNN(20,dropout=0.3, kernel_regularizer=regularizer))\n",
    "model16.add(layers.Dense(1,activation='sigmoid'))\n",
    "model16.compile(optimizer='rmsprop',loss='binary_crossentropy', metrics=['accuracy'])\n",
    "checkpoint16 = ModelCheckpoint(\"best_model1.hdf5\", monitor='val_loss', verbose=0,save_best_only=True, mode='auto', save_freq=\"epoch\",save_weights_only=False)\n",
    "earlystop16 = EarlyStopping(monitor='val_loss', verbose=0, min_delta=0.01, baseline=0.55)\n",
    "history16 = model16.fit(X_train_sequences, Y_train_array, epochs=1,validation_data=(X_valid_sequences, Y_valid_array),batch_size=64,verbose = 1,callbacks=[checkpoint16,earlystop16])"
   ]
  },
  {
   "cell_type": "markdown",
   "id": "0e1b32b8-d4a0-465d-96c5-238ea74ac41d",
   "metadata": {},
   "source": [
    "### Time to predict on the test data, need to turn the test X data into sequences and the test Y data into an array"
   ]
  },
  {
   "cell_type": "code",
   "execution_count": 34,
   "id": "ae051245-d160-47ea-b556-cd53814c3832",
   "metadata": {},
   "outputs": [],
   "source": [
    "Y_test_array = np.asarray(Y_test).astype(np.float32)"
   ]
  },
  {
   "cell_type": "code",
   "execution_count": 35,
   "id": "27d14fe3-2919-4d71-a992-4ba41953cec3",
   "metadata": {},
   "outputs": [],
   "source": [
    "#the maximum number of words to keep, based on word frequency. Only the most common num_words-1 words will be kept.\n",
    "max_words = 2000\n",
    "max_len=500\n",
    "\n",
    "#creating tokenizer by turning each text into either a sequence of integers \n",
    "#(each integer being the index of a token in a dictionary) or into a vector where the coefficient \n",
    "#for each token could be binary, based on word count, based on tf-idf...\n",
    "tokenizer = Tokenizer(num_words=max_words,lower=True,split=' ')\n",
    "\n",
    "#Updates internal vocabulary based on a list of texts.\n",
    "#In the case where texts contains lists, we assume each entry of the lists to be a token.\n",
    "tokenizer.fit_on_texts(X_test)\n",
    "\n",
    "#Transforms each text in texts to a sequence of integers.\n",
    "sequences = tokenizer.texts_to_sequences(X_test)\n",
    "\n",
    "#This function transforms a list (of length num_samples) of sequences (lists of integers) into a 2D Numpy array of shape \n",
    "#(num_samples, num_timesteps). num_timesteps is either the maxlen argument if provided, or the length of the longest \n",
    "#sequence in the list.\n",
    "X_test_sequences = pad_sequences(sequences, maxlen=max_len)"
   ]
  },
  {
   "cell_type": "markdown",
   "id": "d48b67ee-35ae-4a4c-b292-524ae2c7d337",
   "metadata": {},
   "source": [
    "### Split test data into batches"
   ]
  },
  {
   "cell_type": "code",
   "execution_count": 46,
   "id": "1389f503-948d-4f06-a45d-198d691cb8fd",
   "metadata": {},
   "outputs": [],
   "source": [
    "i = 64\n",
    "X_batches = []\n",
    "Y_batches = []\n",
    "while(i < X_test_sequences.shape[0]):\n",
    "    this_X_batch = X_test_sequences[i-64:i]\n",
    "    this_Y_batch = Y_test_array[i-64:i]\n",
    "    X_batches.append(this_X_batch)\n",
    "    Y_batches.append(this_Y_batch)\n",
    "    i+=64"
   ]
  },
  {
   "cell_type": "markdown",
   "id": "7cea8b01-d0fd-48b8-b3ae-9ac25ff23513",
   "metadata": {},
   "source": [
    "### Time to test!!"
   ]
  },
  {
   "cell_type": "code",
   "execution_count": 53,
   "id": "eb85274d-d5d2-48a7-89bd-a04b391d5c66",
   "metadata": {},
   "outputs": [],
   "source": [
    "results = []\n",
    "i = 0\n",
    "while( i < len(X_batches) ):\n",
    "    result = model16.test_on_batch(x=X_batches[i], y=Y_batches[i], reset_metrics=True)\n",
    "    results.append(result)\n",
    "    i+=1"
   ]
  },
  {
   "cell_type": "code",
   "execution_count": 55,
   "id": "995f2ee9-dd9a-4666-b6ba-e2d50cb8e3d4",
   "metadata": {},
   "outputs": [
    {
     "name": "stdout",
     "output_type": "stream",
     "text": [
      "['loss', 'accuracy']\n",
      "[[0.6869397759437561, 0.640625], [0.7087468504905701, 0.625], [0.6941721439361572, 0.59375], [0.8217992186546326, 0.5], [0.7123985886573792, 0.609375], [0.7053833603858948, 0.609375], [0.7636483311653137, 0.59375], [0.6975687146186829, 0.625], [0.7361975312232971, 0.5625], [0.8457841277122498, 0.515625], [0.813751757144928, 0.484375], [0.7139145731925964, 0.59375], [0.661302387714386, 0.65625], [0.7028974890708923, 0.671875], [0.6632857918739319, 0.671875], [0.7416196465492249, 0.546875], [0.7071908712387085, 0.609375], [0.7043229937553406, 0.625], [0.7460721731185913, 0.609375], [0.7357705235481262, 0.578125], [0.7043769359588623, 0.640625], [0.6501519083976746, 0.640625], [0.7382586598396301, 0.546875], [0.7737110257148743, 0.53125], [0.7508490085601807, 0.53125], [0.7076207995414734, 0.578125], [0.7813892960548401, 0.5], [0.7510342001914978, 0.578125], [0.7360690236091614, 0.53125], [0.6640822887420654, 0.671875], [0.6724541187286377, 0.6875], [0.6551893353462219, 0.671875], [0.7171474099159241, 0.609375], [0.6907650232315063, 0.640625], [0.7513183951377869, 0.53125], [0.6921302676200867, 0.640625], [0.829038143157959, 0.5], [0.7069799900054932, 0.625], [0.7439802289009094, 0.546875], [0.7781537175178528, 0.515625], [0.7165302038192749, 0.59375], [0.7215700745582581, 0.625], [0.7316702008247375, 0.5625], [0.7287101745605469, 0.640625], [0.7801666855812073, 0.5], [0.7813580632209778, 0.5], [0.6905384063720703, 0.578125], [0.6906045079231262, 0.609375], [0.6870177984237671, 0.640625], [0.7033430933952332, 0.5625], [0.7563831806182861, 0.53125], [0.7506879568099976, 0.5625], [0.740475058555603, 0.578125], [0.7149651050567627, 0.578125], [0.7666957974433899, 0.53125], [0.6572145223617554, 0.671875], [0.7359433770179749, 0.5625], [0.7706859707832336, 0.546875], [0.7904576659202576, 0.515625], [0.6829953789710999, 0.671875], [0.6439637541770935, 0.71875], [0.6698305010795593, 0.65625], [0.7170314788818359, 0.65625], [0.7020910978317261, 0.640625], [0.7384961843490601, 0.59375], [0.7348788380622864, 0.515625], [0.6913598775863647, 0.59375], [0.7290658354759216, 0.5625], [0.6852113604545593, 0.625], [0.6774742603302002, 0.640625], [0.7309688925743103, 0.578125], [0.7002484202384949, 0.59375], [0.7111040949821472, 0.671875], [0.7151700854301453, 0.59375], [0.7605744004249573, 0.546875], [0.6869710087776184, 0.59375], [0.6853397488594055, 0.65625], [0.6775452494621277, 0.65625]]\n"
     ]
    }
   ],
   "source": [
    "print(model16.metrics_names)\n",
    "print(results)"
   ]
  },
  {
   "cell_type": "code",
   "execution_count": 56,
   "id": "c6d85bc1-feb0-4e3f-95fe-72f22260c899",
   "metadata": {},
   "outputs": [],
   "source": [
    "import matplotlib.pyplot as plt"
   ]
  },
  {
   "cell_type": "code",
   "execution_count": 59,
   "id": "99d9e7ff-2937-416c-b34f-2d7943efda96",
   "metadata": {},
   "outputs": [],
   "source": [
    "batch_nums = []\n",
    "accuracy_results = []\n",
    "\n",
    "for i in range(len(results)):\n",
    "    batch_nums.append(i)\n",
    "    accuracy_results.append(results[i][1])"
   ]
  },
  {
   "cell_type": "code",
   "execution_count": 61,
   "id": "da7f7fe7-955d-4110-94fe-1091c2905517",
   "metadata": {},
   "outputs": [
    {
     "data": {
      "text/plain": [
       "[<matplotlib.lines.Line2D at 0x7fbe05c86b90>]"
      ]
     },
     "execution_count": 61,
     "metadata": {},
     "output_type": "execute_result"
    },
    {
     "data": {
      "image/png": "[encoded data removed]",
      "text/plain": [
       "<Figure size 640x480 with 1 Axes>"
      ]
     },
     "metadata": {},
     "output_type": "display_data"
    }
   ],
   "source": [
    "plt.plot(batch_nums, accuracy_results)"
   ]
  },
  {
   "cell_type": "code",
   "execution_count": 62,
   "id": "3c89a2cb-9eb4-4341-932c-aba9a34f9333",
   "metadata": {},
   "outputs": [
    {
     "data": {
      "text/plain": [
       "0.5935496794871795"
      ]
     },
     "execution_count": 62,
     "metadata": {},
     "output_type": "execute_result"
    }
   ],
   "source": [
    "np.mean(accuracy_results)"
   ]
  },
  {
   "cell_type": "code",
   "execution_count": 64,
   "id": "a5407f08-45d0-4c0d-b746-b868deac098b",
   "metadata": {},
   "outputs": [
    {
     "data": {
      "text/plain": [
       "0.71875"
      ]
     },
     "execution_count": 64,
     "metadata": {},
     "output_type": "execute_result"
    }
   ],
   "source": [
    "np.max(accuracy_results)"
   ]
  },
  {
   "cell_type": "code",
   "execution_count": 65,
   "id": "a817e896-80a6-4dde-aa15-c7c6d84d1060",
   "metadata": {},
   "outputs": [
    {
     "data": {
      "text/plain": [
       "0.484375"
      ]
     },
     "execution_count": 65,
     "metadata": {},
     "output_type": "execute_result"
    }
   ],
   "source": [
    "np.min(accuracy_results)"
   ]
  },
  {
   "cell_type": "markdown",
   "id": "29a032bf-5809-414e-b586-104500184c50",
   "metadata": {},
   "source": [
    "### Now time to test on the Rotten Tomatoes Dataset"
   ]
  },
  {
   "cell_type": "markdown",
   "id": "b141c36c-027a-4f76-aa22-4be2a0f40769",
   "metadata": {},
   "source": [
    "### First, load test data"
   ]
  },
  {
   "cell_type": "code",
   "execution_count": 105,
   "id": "6fca71a8-cd33-488e-b3fb-4540c168227b",
   "metadata": {},
   "outputs": [],
   "source": [
    "rt_path = \"RottenTomatoes/DataSet/train.tsv\"\n",
    "rt_df = pd.read_csv(path, sep=\"\\t\")"
   ]
  },
  {
   "cell_type": "code",
   "execution_count": 107,
   "id": "202b23aa-77d0-4a72-884c-fc04d714b0c3",
   "metadata": {},
   "outputs": [
    {
     "name": "stderr",
     "output_type": "stream",
     "text": [
      "/var/folders/gd/1k6gf7yn51b89wq72200y5dr0000gn/T/ipykernel_41764/569102518.py:2: FutureWarning: The default value of regex will change from True to False in a future version.\n",
      "  rt_df['Phrase'] = rt_df['Phrase'].str.replace(r'[^\\w\\s]+', '')\n",
      "/var/folders/gd/1k6gf7yn51b89wq72200y5dr0000gn/T/ipykernel_41764/569102518.py:4: FutureWarning: The default value of regex will change from True to False in a future version.\n",
      "  rt_df['Phrase'] = rt_df['Phrase'].str.replace(r'\\d+', '')\n"
     ]
    }
   ],
   "source": [
    "# remove punctuation\n",
    "rt_df['Phrase'] = rt_df['Phrase'].str.replace(r'[^\\w\\s]+', '')\n",
    "# remove numbers\n",
    "rt_df['Phrase'] = rt_df['Phrase'].str.replace(r'\\d+', '')\n",
    "# make it all lower case\n",
    "rt_df['Phrase'] = rt_df['Phrase'].str.lower()\n",
    "# remove non-asci characters\n",
    "rt_df.Phrase.replace({r'[^\\x00-\\x7F]+':''}, regex=True, inplace=True)\n",
    "\n",
    "rt_df['Sentiment']=rt_df['Sentiment'].astype(int) #convert the star_rating column to int\n",
    "\n",
    "rt_df= rt_df[rt_df['Sentiment']!=2]"
   ]
  },
  {
   "cell_type": "code",
   "execution_count": 108,
   "id": "edd14d86-46ca-4119-a16f-71a0fb1c0e6f",
   "metadata": {},
   "outputs": [
    {
     "name": "stdout",
     "output_type": "stream",
     "text": [
      "Train:  (61182,) (61182,) Test/Valid:  ((15296,), (15296,))\n"
     ]
    }
   ],
   "source": [
    "# Data Preprocessing\n",
    "rt_X_train,rt_X_test,rt_Y_train, rt_Y_test = train_test_split(rt_df['Phrase'], rt_df['Sentiment'], test_size=0.2, random_state=30)\n",
    "print(\"Train: \" ,rt_X_train.shape,rt_Y_train.shape,\"Test/Valid: \",(rt_X_test.shape,rt_Y_test.shape))"
   ]
  },
  {
   "cell_type": "code",
   "execution_count": 109,
   "id": "b4ed865e-05aa-4480-8a85-76904820cd4a",
   "metadata": {},
   "outputs": [
    {
     "name": "stdout",
     "output_type": "stream",
     "text": [
      "Test:  (7648,) (7648,) Valid:  ((7648,), (7648,))\n"
     ]
    }
   ],
   "source": [
    "#splitting testing/validation into separate groups so testing is 10% and validation is 10%\n",
    "rt_X_test,rt_X_valid,rt_Y_test, rt_Y_valid = train_test_split(rt_X_test,rt_Y_test, test_size=0.5, random_state=30)\n",
    "print(\"Test: \" ,rt_X_test.shape,rt_Y_test.shape,\"Valid: \",(rt_X_valid.shape,rt_Y_valid.shape))"
   ]
  },
  {
   "cell_type": "markdown",
   "id": "2afbba7d-0526-4c8c-8983-5a5e4e68b1df",
   "metadata": {},
   "source": [
    "### Turn the 1s to 0.25, 3s to 0.75, 4s to 1"
   ]
  },
  {
   "cell_type": "code",
   "execution_count": 110,
   "id": "b7c0fd4a-3790-428c-8ea1-e06e39a831dc",
   "metadata": {},
   "outputs": [],
   "source": [
    "rt_Y_test[rt_Y_test == 1] = .25\n",
    "rt_Y_test[rt_Y_test == 3] = .75\n",
    "rt_Y_test[rt_Y_test == 4] = 1"
   ]
  },
  {
   "cell_type": "markdown",
   "id": "ca96a429-787d-4f51-92b4-4e45aa0fceaf",
   "metadata": {},
   "source": [
    "### Preprocess data"
   ]
  },
  {
   "cell_type": "code",
   "execution_count": 111,
   "id": "6957be94-7680-493e-9a26-4638ce0aa788",
   "metadata": {},
   "outputs": [],
   "source": [
    "#the maximum number of words to keep, based on word frequency. Only the most common num_words-1 words will be kept.\n",
    "max_words = 2000\n",
    "max_len=500\n",
    "\n",
    "#creating tokenizer by turning each text into either a sequence of integers \n",
    "#(each integer being the index of a token in a dictionary) or into a vector where the coefficient \n",
    "#for each token could be binary, based on word count, based on tf-idf...\n",
    "rt_tokenizer = Tokenizer(num_words=max_words,lower=True,split=' ')\n",
    "\n",
    "#Updates internal vocabulary based on a list of texts.\n",
    "#In the case where texts contains lists, we assume each entry of the lists to be a token.\n",
    "rt_tokenizer.fit_on_texts(rt_X_test)\n",
    "\n",
    "#Transforms each text in texts to a sequence of integers.\n",
    "rt_sequences = rt_tokenizer.texts_to_sequences(rt_X_test)\n",
    "\n",
    "#This function transforms a list (of length num_samples) of sequences (lists of integers) into a 2D Numpy array of shape \n",
    "#(num_samples, num_timesteps). num_timesteps is either the maxlen argument if provided, or the length of the longest \n",
    "#sequence in the list.\n",
    "rt_X_test_sequences = pad_sequences(rt_sequences, maxlen=max_len)"
   ]
  },
  {
   "cell_type": "code",
   "execution_count": 112,
   "id": "52261b05-a03e-4bd3-94e6-52695a013b8e",
   "metadata": {},
   "outputs": [],
   "source": [
    "rt_Y_test_array = np.asarray(rt_Y_test).astype(np.float32)"
   ]
  },
  {
   "cell_type": "markdown",
   "id": "65f9fec4-a2b7-471c-9a5f-eca94ea6f7fe",
   "metadata": {},
   "source": [
    "### Split test data into batches"
   ]
  },
  {
   "cell_type": "code",
   "execution_count": 113,
   "id": "672a6662-56d8-4387-94d4-7e7a54c699fb",
   "metadata": {},
   "outputs": [],
   "source": [
    "i = 64\n",
    "rt_X_batches = []\n",
    "rt_Y_batches = []\n",
    "while(i < rt_X_test_sequences.shape[0]):\n",
    "    this_X_batch = rt_X_test_sequences[i-64:i]\n",
    "    this_Y_batch = rt_Y_test_array[i-64:i]\n",
    "    rt_X_batches.append(this_X_batch)\n",
    "    rt_Y_batches.append(this_Y_batch)\n",
    "    i+=64"
   ]
  },
  {
   "cell_type": "markdown",
   "id": "0956ce03-49a7-476e-9d30-32f3a3a95e70",
   "metadata": {},
   "source": [
    "### Time to test Rotten Tomatoes Subjectivity!"
   ]
  },
  {
   "cell_type": "code",
   "execution_count": 114,
   "id": "26c9c648-6365-405f-97bb-7b1b836f183c",
   "metadata": {},
   "outputs": [],
   "source": [
    "rt_results = []\n",
    "i = 0\n",
    "while( i < len(rt_X_batches) ):\n",
    "    result = model16.test_on_batch(x=rt_X_batches[i], y=rt_Y_batches[i], reset_metrics=True)\n",
    "    rt_results.append(result)\n",
    "    i+=1"
   ]
  },
  {
   "cell_type": "code",
   "execution_count": 115,
   "id": "fae62781-1dd5-4791-943f-0680d0f01355",
   "metadata": {},
   "outputs": [],
   "source": [
    "rt_batch_nums = []\n",
    "rt_accuracy_results = []\n",
    "\n",
    "for i in range(len(rt_results)):\n",
    "    rt_batch_nums.append(i)\n",
    "    rt_accuracy_results.append(rt_results[i][1])"
   ]
  },
  {
   "cell_type": "code",
   "execution_count": 116,
   "id": "99170a44-9500-414d-83be-10394bdd1bf1",
   "metadata": {},
   "outputs": [
    {
     "data": {
      "text/plain": [
       "[<matplotlib.lines.Line2D at 0x7fbc13974bb0>]"
      ]
     },
     "execution_count": 116,
     "metadata": {},
     "output_type": "execute_result"
    },
    {
     "data": {
      "image/png": "[encoded data removed]",
      "text/plain": [
       "<Figure size 640x480 with 1 Axes>"
      ]
     },
     "metadata": {},
     "output_type": "display_data"
    }
   ],
   "source": [
    "plt.plot(rt_batch_nums, rt_accuracy_results)"
   ]
  },
  {
   "cell_type": "code",
   "execution_count": 117,
   "id": "0f8033ee-28d8-4244-9100-d7b588955ff9",
   "metadata": {},
   "outputs": [
    {
     "data": {
      "text/plain": [
       "0.1171218487394958"
      ]
     },
     "execution_count": 117,
     "metadata": {},
     "output_type": "execute_result"
    }
   ],
   "source": [
    "np.mean(rt_accuracy_results)"
   ]
  },
  {
   "cell_type": "code",
   "execution_count": 118,
   "id": "262723ba-ab33-4ad9-ba0b-a55ed057e645",
   "metadata": {},
   "outputs": [
    {
     "data": {
      "text/plain": [
       "0.234375"
      ]
     },
     "execution_count": 118,
     "metadata": {},
     "output_type": "execute_result"
    }
   ],
   "source": [
    "np.max(rt_accuracy_results)"
   ]
  },
  {
   "cell_type": "code",
   "execution_count": 119,
   "id": "5e27e1ce-7568-44bd-be57-b715d135f4e4",
   "metadata": {},
   "outputs": [
    {
     "data": {
      "text/plain": [
       "0.03125"
      ]
     },
     "execution_count": 119,
     "metadata": {},
     "output_type": "execute_result"
    }
   ],
   "source": [
    "np.min(rt_accuracy_results)"
   ]
  },
  {
   "cell_type": "markdown",
   "id": "ec68d31e-d01a-46a4-afa7-3844334b546d",
   "metadata": {},
   "source": [
    "### Clearly, that didn't work well. Now going to try converting Rotten Tomatoes to Polarity"
   ]
  },
  {
   "cell_type": "code",
   "execution_count": 120,
   "id": "ad3d6890-0450-404e-95b2-19b47741c704",
   "metadata": {},
   "outputs": [],
   "source": [
    "rt_Y_test[rt_Y_test == .25] = 0\n",
    "rt_Y_test[rt_Y_test == .75] = 1"
   ]
  },
  {
   "cell_type": "markdown",
   "id": "117a96d2-6816-41d1-bc38-fdb5f8300afe",
   "metadata": {},
   "source": [
    "### Now test again"
   ]
  },
  {
   "cell_type": "code",
   "execution_count": 121,
   "id": "78a73f51-3399-47ed-8bac-c9acdaf39427",
   "metadata": {},
   "outputs": [],
   "source": [
    "#the maximum number of words to keep, based on word frequency. Only the most common num_words-1 words will be kept.\n",
    "max_words = 2000\n",
    "max_len=500\n",
    "\n",
    "#creating tokenizer by turning each text into either a sequence of integers \n",
    "#(each integer being the index of a token in a dictionary) or into a vector where the coefficient \n",
    "#for each token could be binary, based on word count, based on tf-idf...\n",
    "rt_tokenizer = Tokenizer(num_words=max_words,lower=True,split=' ')\n",
    "\n",
    "#Updates internal vocabulary based on a list of texts.\n",
    "#In the case where texts contains lists, we assume each entry of the lists to be a token.\n",
    "rt_tokenizer.fit_on_texts(rt_X_test)\n",
    "\n",
    "#Transforms each text in texts to a sequence of integers.\n",
    "rt_sequences = rt_tokenizer.texts_to_sequences(rt_X_test)\n",
    "\n",
    "#This function transforms a list (of length num_samples) of sequences (lists of integers) into a 2D Numpy array of shape \n",
    "#(num_samples, num_timesteps). num_timesteps is either the maxlen argument if provided, or the length of the longest \n",
    "#sequence in the list.\n",
    "rt_X_test_sequences = pad_sequences(rt_sequences, maxlen=max_len)"
   ]
  },
  {
   "cell_type": "code",
   "execution_count": 122,
   "id": "03b2e590-14f2-49d1-8334-400ad84398ba",
   "metadata": {},
   "outputs": [],
   "source": [
    "rt_Y_test_array = np.asarray(rt_Y_test).astype(np.float32)"
   ]
  },
  {
   "cell_type": "code",
   "execution_count": 123,
   "id": "19f74a5e-24e9-4a8e-a847-314d72fd5070",
   "metadata": {},
   "outputs": [],
   "source": [
    "i = 64\n",
    "rt_X_batches = []\n",
    "rt_Y_batches = []\n",
    "while(i < rt_X_test_sequences.shape[0]):\n",
    "    this_X_batch = rt_X_test_sequences[i-64:i]\n",
    "    this_Y_batch = rt_Y_test_array[i-64:i]\n",
    "    rt_X_batches.append(this_X_batch)\n",
    "    rt_Y_batches.append(this_Y_batch)\n",
    "    i+=64"
   ]
  },
  {
   "cell_type": "code",
   "execution_count": 124,
   "id": "4d36cb7b-cef3-405f-996a-cddde08db6dc",
   "metadata": {},
   "outputs": [],
   "source": [
    "rt_results = []\n",
    "i = 0\n",
    "while( i < len(rt_X_batches) ):\n",
    "    result = model16.test_on_batch(x=rt_X_batches[i], y=rt_Y_batches[i], reset_metrics=True)\n",
    "    rt_results.append(result)\n",
    "    i+=1"
   ]
  },
  {
   "cell_type": "code",
   "execution_count": 125,
   "id": "29e2180c-df86-46f0-b754-4ef9c0c62e5f",
   "metadata": {},
   "outputs": [],
   "source": [
    "rt_batch_nums = []\n",
    "rt_accuracy_results = []\n",
    "\n",
    "for i in range(len(rt_results)):\n",
    "    rt_batch_nums.append(i)\n",
    "    rt_accuracy_results.append(rt_results[i][1])"
   ]
  },
  {
   "cell_type": "code",
   "execution_count": 126,
   "id": "06ecf690-759a-431e-a5bc-731efc6110bb",
   "metadata": {},
   "outputs": [
    {
     "data": {
      "text/plain": [
       "[<matplotlib.lines.Line2D at 0x7fbc155adcc0>]"
      ]
     },
     "execution_count": 126,
     "metadata": {},
     "output_type": "execute_result"
    },
    {
     "data": {
      "image/png": "[encoded data removed]",
      "text/plain": [
       "<Figure size 640x480 with 1 Axes>"
      ]
     },
     "metadata": {},
     "output_type": "display_data"
    }
   ],
   "source": [
    "plt.plot(rt_batch_nums, rt_accuracy_results)"
   ]
  },
  {
   "cell_type": "code",
   "execution_count": 127,
   "id": "bd36591a-5e77-49be-ab2e-7d5251c04145",
   "metadata": {},
   "outputs": [
    {
     "data": {
      "text/plain": [
       "0.553702731092437"
      ]
     },
     "execution_count": 127,
     "metadata": {},
     "output_type": "execute_result"
    }
   ],
   "source": [
    "np.mean(rt_accuracy_results)"
   ]
  },
  {
   "cell_type": "code",
   "execution_count": 128,
   "id": "5673f223-5ac6-4394-b26e-ae53d2ab0e79",
   "metadata": {},
   "outputs": [
    {
     "data": {
      "text/plain": [
       "0.71875"
      ]
     },
     "execution_count": 128,
     "metadata": {},
     "output_type": "execute_result"
    }
   ],
   "source": [
    "np.max(rt_accuracy_results)"
   ]
  },
  {
   "cell_type": "code",
   "execution_count": 129,
   "id": "eef5d487-ef2a-4539-8acf-a1d871b2e157",
   "metadata": {},
   "outputs": [
    {
     "data": {
      "text/plain": [
       "0.375"
      ]
     },
     "execution_count": 129,
     "metadata": {},
     "output_type": "execute_result"
    }
   ],
   "source": [
    "np.min(rt_accuracy_results)"
   ]
  },
  {
   "cell_type": "markdown",
   "id": "99607e5c-52a2-470f-b54f-2370a145b283",
   "metadata": {},
   "source": [
    "### Much better! This probably means the model only guesses 0s and 1s so subjectivity doesn't work unless you convert to polarity. With more time it would be better to retrain the model so it guesses a decimal percentage (and rounds to the closest whole number for polarity)"
   ]
  },
  {
   "cell_type": "code",
   "execution_count": null,
   "id": "1e997b77-198b-434e-b9a4-ab7cf995f6fc",
   "metadata": {},
   "outputs": [],
   "source": []
  }
 ],
 "metadata": {
  "kernelspec": {
   "display_name": "Python 3 (ipykernel)",
   "language": "python",
   "name": "python3"
  },
  "language_info": {
   "codemirror_mode": {
    "name": "ipython",
    "version": 3
   },
   "file_extension": ".py",
   "mimetype": "text/x-python",
   "name": "python",
   "nbconvert_exporter": "python",
   "pygments_lexer": "ipython3",
   "version": "3.10.10"
  }
 },
 "nbformat": 4,
 "nbformat_minor": 5
}
